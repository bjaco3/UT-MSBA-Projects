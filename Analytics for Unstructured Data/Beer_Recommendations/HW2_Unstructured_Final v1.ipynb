{
 "cells": [
  {
   "cell_type": "markdown",
   "id": "325a2529",
   "metadata": {},
   "source": [
    "# Building a Crowdsourced Recommendation System\n",
    "## ----------------------------------------------------------------------------------------------------------------------------------"
   ]
  },
  {
   "cell_type": "markdown",
   "id": "fcbfa26d",
   "metadata": {
    "id": "z_y_mNd_sufB"
   },
   "source": [
    "## Team Members\n",
    "\n",
    "\n",
    "| Name | EID |\n",
    "| --- | --- |\n",
    "| Brandt Green | bwg537 |\n",
    "| Jackson Hittner | jbh3692 |\n",
    " Bret Jaco | bcj646 |\n",
    "| Brandon Pover | bnp669 |\n",
    "| Matthew Tran | mct2345 |\n"
   ]
  },
  {
   "cell_type": "code",
   "execution_count": 1,
   "id": "5650fa35",
   "metadata": {},
   "outputs": [],
   "source": [
    "import pandas as pd\n",
    "import numpy as np\n",
    "import warnings\n",
    "import nltk\n",
    "import string\n",
    "from nltk.corpus import stopwords\n",
    "from vaderSentiment.vaderSentiment import SentimentIntensityAnalyzer\n",
    "import numpy as np\n",
    "from typing import Text\n",
    "from bs4 import BeautifulSoup\n",
    "import time\n",
    "import requests\n",
    "english_stopwords = stopwords.words('english')"
   ]
  },
  {
   "cell_type": "markdown",
   "id": "c7864e04",
   "metadata": {},
   "source": [
    "## Task A: Scrape Data\n",
    "### Warning - scraping code block below will take around 10 minutes to run."
   ]
  },
  {
   "cell_type": "code",
   "execution_count": 2,
   "id": "25194806",
   "metadata": {},
   "outputs": [],
   "source": [
    "\n",
    "# base_url = 'https://www.beeradvocate.com'\n",
    "# beer_url = 'https://www.beeradvocate.com/beer/top-rated/'\n",
    "\n",
    "# request = requests.get(beer_url)\n",
    "# html = (request.content)\n",
    "# soup = BeautifulSoup(html)\n",
    "\n",
    "# table_rows = soup.table.find_all('tr')\n",
    "\n",
    "# all_beer_links = []\n",
    "# for row in table_rows[1:]:\n",
    "#     link = row.find_all('td')[1].find('a')['href']\n",
    "#     all_beer_links.append(base_url + link)\n",
    "\n",
    "# beer_data = {}\n",
    "# beer_data['product_name'] = []\n",
    "# beer_data['product_review'] = []\n",
    "# beer_data['user_rating'] = []\n",
    "\n",
    "# for beer_link in all_beer_links:\n",
    "#     time.sleep(2)\n",
    "#     page_soup = BeautifulSoup(requests.get(beer_link).content)\n",
    "#     beer_name = page_soup.find('div',class_='titleBar').h1.find(text=True)\n",
    "\n",
    "#     reviews_list = page_soup.find_all('div',class_='user-comment')\n",
    "#     # reviews_list = page_soup.find_all('div',class_='rating_fullview_content_2')\n",
    "#     for review in reviews_list:\n",
    "#         user_rating = review.find('span',class_='BAscore_norm').text.strip()\n",
    "#         product_review = ' '.join(review.find('span',class_='BAscore_norm').parent.find_all(text=True,recursive=False))\n",
    "#         beer_data['product_name'].append(beer_name)\n",
    "#         beer_data['product_review'].append(product_review)\n",
    "#         beer_data['user_rating'].append(user_rating)        \n",
    "\n",
    "# df = pd.DataFrame(beer_data)\n",
    "# df.to_csv('beer_data.csv')"
   ]
  },
  {
   "cell_type": "markdown",
   "id": "f3745ae9",
   "metadata": {},
   "source": [
    "## Task B: Finding Beer Attributes"
   ]
  },
  {
   "cell_type": "code",
   "execution_count": 3,
   "id": "2e732189",
   "metadata": {},
   "outputs": [
    {
     "data": {
      "text/html": [
       "<div>\n",
       "<style scoped>\n",
       "    .dataframe tbody tr th:only-of-type {\n",
       "        vertical-align: middle;\n",
       "    }\n",
       "\n",
       "    .dataframe tbody tr th {\n",
       "        vertical-align: top;\n",
       "    }\n",
       "\n",
       "    .dataframe thead th {\n",
       "        text-align: right;\n",
       "    }\n",
       "</style>\n",
       "<table border=\"1\" class=\"dataframe\">\n",
       "  <thead>\n",
       "    <tr style=\"text-align: right;\">\n",
       "      <th></th>\n",
       "      <th>product_name</th>\n",
       "      <th>product_review</th>\n",
       "      <th>user_rating</th>\n",
       "    </tr>\n",
       "  </thead>\n",
       "  <tbody>\n",
       "    <tr>\n",
       "      <th>0</th>\n",
       "      <td>Kentucky Brunch Brand Stout</td>\n",
       "      <td>2020 vintage acquired during the pandemic. I...</td>\n",
       "      <td>5.00</td>\n",
       "    </tr>\n",
       "    <tr>\n",
       "      <th>1</th>\n",
       "      <td>Kentucky Brunch Brand Stout</td>\n",
       "      <td>Long time waiting to tick this one, and I ha...</td>\n",
       "      <td>4.56</td>\n",
       "    </tr>\n",
       "    <tr>\n",
       "      <th>2</th>\n",
       "      <td>Kentucky Brunch Brand Stout</td>\n",
       "      <td>This review is for the 2019 batch. It was bo...</td>\n",
       "      <td>5.00</td>\n",
       "    </tr>\n",
       "    <tr>\n",
       "      <th>3</th>\n",
       "      <td>Kentucky Brunch Brand Stout</td>\n",
       "      <td>Supreme maple OD! Soooo easy drinking &amp; well...</td>\n",
       "      <td>5.00</td>\n",
       "    </tr>\n",
       "    <tr>\n",
       "      <th>4</th>\n",
       "      <td>Kentucky Brunch Brand Stout</td>\n",
       "      <td>I have now had 4 different years of KBBS and...</td>\n",
       "      <td>5.00</td>\n",
       "    </tr>\n",
       "    <tr>\n",
       "      <th>...</th>\n",
       "      <td>...</td>\n",
       "      <td>...</td>\n",
       "      <td>...</td>\n",
       "    </tr>\n",
       "    <tr>\n",
       "      <th>6214</th>\n",
       "      <td>The Streets</td>\n",
       "      <td>Had the good fortune to get 24 of these, \\nT...</td>\n",
       "      <td>4.85</td>\n",
       "    </tr>\n",
       "    <tr>\n",
       "      <th>6215</th>\n",
       "      <td>The Streets</td>\n",
       "      <td>Incredible beer. Tasted from can. Robust aro...</td>\n",
       "      <td>5.00</td>\n",
       "    </tr>\n",
       "    <tr>\n",
       "      <th>6216</th>\n",
       "      <td>The Streets</td>\n",
       "      <td>Cloudy orange appearance with white head tha...</td>\n",
       "      <td>4.52</td>\n",
       "    </tr>\n",
       "    <tr>\n",
       "      <th>6217</th>\n",
       "      <td>The Streets</td>\n",
       "      <td>Can dated 3/20/17. This is the third can con...</td>\n",
       "      <td>4.75</td>\n",
       "    </tr>\n",
       "    <tr>\n",
       "      <th>6218</th>\n",
       "      <td>The Streets</td>\n",
       "      <td>Canned 3/20, could only imagine how if was f...</td>\n",
       "      <td>4.84</td>\n",
       "    </tr>\n",
       "  </tbody>\n",
       "</table>\n",
       "<p>6219 rows × 3 columns</p>\n",
       "</div>"
      ],
      "text/plain": [
       "                     product_name  \\\n",
       "0     Kentucky Brunch Brand Stout   \n",
       "1     Kentucky Brunch Brand Stout   \n",
       "2     Kentucky Brunch Brand Stout   \n",
       "3     Kentucky Brunch Brand Stout   \n",
       "4     Kentucky Brunch Brand Stout   \n",
       "...                           ...   \n",
       "6214                  The Streets   \n",
       "6215                  The Streets   \n",
       "6216                  The Streets   \n",
       "6217                  The Streets   \n",
       "6218                  The Streets   \n",
       "\n",
       "                                         product_review  user_rating  \n",
       "0       2020 vintage acquired during the pandemic. I...         5.00  \n",
       "1       Long time waiting to tick this one, and I ha...         4.56  \n",
       "2       This review is for the 2019 batch. It was bo...         5.00  \n",
       "3       Supreme maple OD! Soooo easy drinking & well...         5.00  \n",
       "4       I have now had 4 different years of KBBS and...         5.00  \n",
       "...                                                 ...          ...  \n",
       "6214    Had the good fortune to get 24 of these, \\nT...         4.85  \n",
       "6215    Incredible beer. Tasted from can. Robust aro...         5.00  \n",
       "6216    Cloudy orange appearance with white head tha...         4.52  \n",
       "6217    Can dated 3/20/17. This is the third can con...         4.75  \n",
       "6218    Canned 3/20, could only imagine how if was f...         4.84  \n",
       "\n",
       "[6219 rows x 3 columns]"
      ]
     },
     "execution_count": 3,
     "metadata": {},
     "output_type": "execute_result"
    }
   ],
   "source": [
    "beer_data = pd.read_csv('beer_data.csv')\n",
    "beer_data.product_review = beer_data.product_review.str.strip().str[4:] # Don't include that weird stuff in the first 4 characters of every string\n",
    "beer_data"
   ]
  },
  {
   "cell_type": "markdown",
   "id": "2421ad5a",
   "metadata": {},
   "source": [
    "### To find what beer attributes people discuss the most, we wanted to examine the most frequent adjectives people use when talking about beer. We first cleaned up the words and then analyzed the frequency distributions of words."
   ]
  },
  {
   "cell_type": "markdown",
   "id": "68deec4e",
   "metadata": {},
   "source": [
    "First, clean the words. We got rid of anything that is not a character or whitespace. "
   ]
  },
  {
   "cell_type": "code",
   "execution_count": 27,
   "id": "5a744cd0",
   "metadata": {},
   "outputs": [
    {
     "data": {
      "text/html": [
       "<div>\n",
       "<style scoped>\n",
       "    .dataframe tbody tr th:only-of-type {\n",
       "        vertical-align: middle;\n",
       "    }\n",
       "\n",
       "    .dataframe tbody tr th {\n",
       "        vertical-align: top;\n",
       "    }\n",
       "\n",
       "    .dataframe thead th {\n",
       "        text-align: right;\n",
       "    }\n",
       "</style>\n",
       "<table border=\"1\" class=\"dataframe\">\n",
       "  <thead>\n",
       "    <tr style=\"text-align: right;\">\n",
       "      <th></th>\n",
       "      <th>product_name</th>\n",
       "      <th>product_review</th>\n",
       "      <th>user_rating</th>\n",
       "      <th>cleaned_review</th>\n",
       "    </tr>\n",
       "  </thead>\n",
       "  <tbody>\n",
       "    <tr>\n",
       "      <th>0</th>\n",
       "      <td>Kentucky Brunch Brand Stout</td>\n",
       "      <td>2020 vintage acquired during the pandemic. I...</td>\n",
       "      <td>5.00</td>\n",
       "      <td>vintage acquired during the pandemic it was...</td>\n",
       "    </tr>\n",
       "    <tr>\n",
       "      <th>1</th>\n",
       "      <td>Kentucky Brunch Brand Stout</td>\n",
       "      <td>Long time waiting to tick this one, and I ha...</td>\n",
       "      <td>4.56</td>\n",
       "      <td>long time waiting to tick this one and i hav...</td>\n",
       "    </tr>\n",
       "    <tr>\n",
       "      <th>2</th>\n",
       "      <td>Kentucky Brunch Brand Stout</td>\n",
       "      <td>This review is for the 2019 batch. It was bo...</td>\n",
       "      <td>5.00</td>\n",
       "      <td>this review is for the  batch it was bottle ...</td>\n",
       "    </tr>\n",
       "    <tr>\n",
       "      <th>3</th>\n",
       "      <td>Kentucky Brunch Brand Stout</td>\n",
       "      <td>Supreme maple OD! Soooo easy drinking &amp; well...</td>\n",
       "      <td>5.00</td>\n",
       "      <td>supreme maple od soooo easy drinking  wellta...</td>\n",
       "    </tr>\n",
       "    <tr>\n",
       "      <th>4</th>\n",
       "      <td>Kentucky Brunch Brand Stout</td>\n",
       "      <td>I have now had 4 different years of KBBS and...</td>\n",
       "      <td>5.00</td>\n",
       "      <td>i have now had  different years of kbbs and ...</td>\n",
       "    </tr>\n",
       "  </tbody>\n",
       "</table>\n",
       "</div>"
      ],
      "text/plain": [
       "                  product_name  \\\n",
       "0  Kentucky Brunch Brand Stout   \n",
       "1  Kentucky Brunch Brand Stout   \n",
       "2  Kentucky Brunch Brand Stout   \n",
       "3  Kentucky Brunch Brand Stout   \n",
       "4  Kentucky Brunch Brand Stout   \n",
       "\n",
       "                                      product_review  user_rating  \\\n",
       "0    2020 vintage acquired during the pandemic. I...         5.00   \n",
       "1    Long time waiting to tick this one, and I ha...         4.56   \n",
       "2    This review is for the 2019 batch. It was bo...         5.00   \n",
       "3    Supreme maple OD! Soooo easy drinking & well...         5.00   \n",
       "4    I have now had 4 different years of KBBS and...         5.00   \n",
       "\n",
       "                                      cleaned_review  \n",
       "0     vintage acquired during the pandemic it was...  \n",
       "1    long time waiting to tick this one and i hav...  \n",
       "2    this review is for the  batch it was bottle ...  \n",
       "3    supreme maple od soooo easy drinking  wellta...  \n",
       "4    i have now had  different years of kbbs and ...  "
      ]
     },
     "execution_count": 27,
     "metadata": {},
     "output_type": "execute_result"
    }
   ],
   "source": [
    "regex_pattern = \"[^a-zA-Z\\s]\" # Regex to match everything that is not a character or white space.\n",
    "beer_data['cleaned_review'] = beer_data.product_review.str.lower().str.replace(pat=regex_pattern,repl='',regex=True) # lower case and strip out stuff\n",
    "beer_data.head()"
   ]
  },
  {
   "cell_type": "markdown",
   "id": "4535bd75",
   "metadata": {},
   "source": [
    "Now we used NLTK to tokenize the entire corpus. We get two sets of tokens: one looked at all of the words in the corpus, and the other included only the adjectives. Both token lists excluded stop words."
   ]
  },
  {
   "cell_type": "code",
   "execution_count": 5,
   "id": "d81db42a",
   "metadata": {},
   "outputs": [],
   "source": [
    "entire_corpus = beer_data.cleaned_review.str.cat(sep=' ') # Entire corpus in one big string\n",
    "all_tokens = nltk.word_tokenize(entire_corpus) # Tokenize everything\n",
    "tokens_no_stop_words = [token for token in all_tokens if token not in english_stopwords] # Remove stop words from all tokens"
   ]
  },
  {
   "cell_type": "markdown",
   "id": "779eeea4",
   "metadata": {},
   "source": [
    "Top words by looking at everything:"
   ]
  },
  {
   "cell_type": "code",
   "execution_count": 6,
   "id": "58c22630",
   "metadata": {},
   "outputs": [
    {
     "data": {
      "text/html": [
       "<div>\n",
       "<style scoped>\n",
       "    .dataframe tbody tr th:only-of-type {\n",
       "        vertical-align: middle;\n",
       "    }\n",
       "\n",
       "    .dataframe tbody tr th {\n",
       "        vertical-align: top;\n",
       "    }\n",
       "\n",
       "    .dataframe thead th {\n",
       "        text-align: right;\n",
       "    }\n",
       "</style>\n",
       "<table border=\"1\" class=\"dataframe\">\n",
       "  <thead>\n",
       "    <tr style=\"text-align: right;\">\n",
       "      <th></th>\n",
       "      <th>word</th>\n",
       "      <th>frequency</th>\n",
       "    </tr>\n",
       "  </thead>\n",
       "  <tbody>\n",
       "    <tr>\n",
       "      <th>0</th>\n",
       "      <td>beer</td>\n",
       "      <td>4946</td>\n",
       "    </tr>\n",
       "    <tr>\n",
       "      <th>1</th>\n",
       "      <td>head</td>\n",
       "      <td>3792</td>\n",
       "    </tr>\n",
       "    <tr>\n",
       "      <th>2</th>\n",
       "      <td>taste</td>\n",
       "      <td>3133</td>\n",
       "    </tr>\n",
       "    <tr>\n",
       "      <th>3</th>\n",
       "      <td>chocolate</td>\n",
       "      <td>2868</td>\n",
       "    </tr>\n",
       "    <tr>\n",
       "      <th>4</th>\n",
       "      <td>dark</td>\n",
       "      <td>2753</td>\n",
       "    </tr>\n",
       "    <tr>\n",
       "      <th>5</th>\n",
       "      <td>sweet</td>\n",
       "      <td>2424</td>\n",
       "    </tr>\n",
       "    <tr>\n",
       "      <th>6</th>\n",
       "      <td>like</td>\n",
       "      <td>2351</td>\n",
       "    </tr>\n",
       "    <tr>\n",
       "      <th>7</th>\n",
       "      <td>one</td>\n",
       "      <td>2246</td>\n",
       "    </tr>\n",
       "    <tr>\n",
       "      <th>8</th>\n",
       "      <td>coffee</td>\n",
       "      <td>2201</td>\n",
       "    </tr>\n",
       "    <tr>\n",
       "      <th>9</th>\n",
       "      <td>bourbon</td>\n",
       "      <td>2142</td>\n",
       "    </tr>\n",
       "    <tr>\n",
       "      <th>10</th>\n",
       "      <td>vanilla</td>\n",
       "      <td>2088</td>\n",
       "    </tr>\n",
       "    <tr>\n",
       "      <th>11</th>\n",
       "      <td>notes</td>\n",
       "      <td>2071</td>\n",
       "    </tr>\n",
       "    <tr>\n",
       "      <th>12</th>\n",
       "      <td>nice</td>\n",
       "      <td>2058</td>\n",
       "    </tr>\n",
       "    <tr>\n",
       "      <th>13</th>\n",
       "      <td>nose</td>\n",
       "      <td>2042</td>\n",
       "    </tr>\n",
       "    <tr>\n",
       "      <th>14</th>\n",
       "      <td>good</td>\n",
       "      <td>1954</td>\n",
       "    </tr>\n",
       "  </tbody>\n",
       "</table>\n",
       "</div>"
      ],
      "text/plain": [
       "         word  frequency\n",
       "0        beer       4946\n",
       "1        head       3792\n",
       "2       taste       3133\n",
       "3   chocolate       2868\n",
       "4        dark       2753\n",
       "5       sweet       2424\n",
       "6        like       2351\n",
       "7         one       2246\n",
       "8      coffee       2201\n",
       "9     bourbon       2142\n",
       "10    vanilla       2088\n",
       "11      notes       2071\n",
       "12       nice       2058\n",
       "13       nose       2042\n",
       "14       good       1954"
      ]
     },
     "execution_count": 6,
     "metadata": {},
     "output_type": "execute_result"
    }
   ],
   "source": [
    "word_counts_all = pd.DataFrame(data=nltk.FreqDist(tokens_no_stop_words).most_common(1_000_000), columns=['word','frequency'])\n",
    "word_counts_all.head(15)"
   ]
  },
  {
   "cell_type": "markdown",
   "id": "be5e7b48",
   "metadata": {},
   "source": [
    "Some of the above were helpful, but we want to understand what **attributes** people care about the most so we examined adjectives only:"
   ]
  },
  {
   "cell_type": "code",
   "execution_count": 7,
   "id": "b19b30ac",
   "metadata": {},
   "outputs": [
    {
     "data": {
      "text/html": [
       "<div>\n",
       "<style scoped>\n",
       "    .dataframe tbody tr th:only-of-type {\n",
       "        vertical-align: middle;\n",
       "    }\n",
       "\n",
       "    .dataframe tbody tr th {\n",
       "        vertical-align: top;\n",
       "    }\n",
       "\n",
       "    .dataframe thead th {\n",
       "        text-align: right;\n",
       "    }\n",
       "</style>\n",
       "<table border=\"1\" class=\"dataframe\">\n",
       "  <thead>\n",
       "    <tr style=\"text-align: right;\">\n",
       "      <th></th>\n",
       "      <th>word</th>\n",
       "      <th>frequency</th>\n",
       "    </tr>\n",
       "  </thead>\n",
       "  <tbody>\n",
       "    <tr>\n",
       "      <th>0</th>\n",
       "      <td>sweet</td>\n",
       "      <td>2003</td>\n",
       "    </tr>\n",
       "    <tr>\n",
       "      <th>1</th>\n",
       "      <td>nice</td>\n",
       "      <td>1972</td>\n",
       "    </tr>\n",
       "    <tr>\n",
       "      <th>2</th>\n",
       "      <td>good</td>\n",
       "      <td>1932</td>\n",
       "    </tr>\n",
       "    <tr>\n",
       "      <th>3</th>\n",
       "      <td>black</td>\n",
       "      <td>1590</td>\n",
       "    </tr>\n",
       "    <tr>\n",
       "      <th>4</th>\n",
       "      <td>white</td>\n",
       "      <td>1552</td>\n",
       "    </tr>\n",
       "    <tr>\n",
       "      <th>5</th>\n",
       "      <td>overall</td>\n",
       "      <td>1545</td>\n",
       "    </tr>\n",
       "    <tr>\n",
       "      <th>6</th>\n",
       "      <td>great</td>\n",
       "      <td>1435</td>\n",
       "    </tr>\n",
       "    <tr>\n",
       "      <th>7</th>\n",
       "      <td>finish</td>\n",
       "      <td>1416</td>\n",
       "    </tr>\n",
       "    <tr>\n",
       "      <th>8</th>\n",
       "      <td>dark</td>\n",
       "      <td>1400</td>\n",
       "    </tr>\n",
       "    <tr>\n",
       "      <th>9</th>\n",
       "      <td>nose</td>\n",
       "      <td>1397</td>\n",
       "    </tr>\n",
       "    <tr>\n",
       "      <th>10</th>\n",
       "      <td>little</td>\n",
       "      <td>1356</td>\n",
       "    </tr>\n",
       "    <tr>\n",
       "      <th>11</th>\n",
       "      <td>light</td>\n",
       "      <td>1237</td>\n",
       "    </tr>\n",
       "    <tr>\n",
       "      <th>12</th>\n",
       "      <td>big</td>\n",
       "      <td>922</td>\n",
       "    </tr>\n",
       "    <tr>\n",
       "      <th>13</th>\n",
       "      <td>dry</td>\n",
       "      <td>918</td>\n",
       "    </tr>\n",
       "    <tr>\n",
       "      <th>14</th>\n",
       "      <td>rich</td>\n",
       "      <td>883</td>\n",
       "    </tr>\n",
       "    <tr>\n",
       "      <th>15</th>\n",
       "      <td>full</td>\n",
       "      <td>845</td>\n",
       "    </tr>\n",
       "    <tr>\n",
       "      <th>16</th>\n",
       "      <td>smooth</td>\n",
       "      <td>818</td>\n",
       "    </tr>\n",
       "    <tr>\n",
       "      <th>17</th>\n",
       "      <td>tropical</td>\n",
       "      <td>803</td>\n",
       "    </tr>\n",
       "    <tr>\n",
       "      <th>18</th>\n",
       "      <td>much</td>\n",
       "      <td>798</td>\n",
       "    </tr>\n",
       "    <tr>\n",
       "      <th>19</th>\n",
       "      <td>sour</td>\n",
       "      <td>782</td>\n",
       "    </tr>\n",
       "    <tr>\n",
       "      <th>20</th>\n",
       "      <td>brown</td>\n",
       "      <td>774</td>\n",
       "    </tr>\n",
       "    <tr>\n",
       "      <th>21</th>\n",
       "      <td>thick</td>\n",
       "      <td>730</td>\n",
       "    </tr>\n",
       "    <tr>\n",
       "      <th>22</th>\n",
       "      <td>creamy</td>\n",
       "      <td>705</td>\n",
       "    </tr>\n",
       "    <tr>\n",
       "      <th>23</th>\n",
       "      <td>best</td>\n",
       "      <td>685</td>\n",
       "    </tr>\n",
       "    <tr>\n",
       "      <th>24</th>\n",
       "      <td>thin</td>\n",
       "      <td>685</td>\n",
       "    </tr>\n",
       "    <tr>\n",
       "      <th>25</th>\n",
       "      <td>ive</td>\n",
       "      <td>644</td>\n",
       "    </tr>\n",
       "    <tr>\n",
       "      <th>26</th>\n",
       "      <td>fresh</td>\n",
       "      <td>609</td>\n",
       "    </tr>\n",
       "    <tr>\n",
       "      <th>27</th>\n",
       "      <td>bitter</td>\n",
       "      <td>608</td>\n",
       "    </tr>\n",
       "    <tr>\n",
       "      <th>28</th>\n",
       "      <td>strong</td>\n",
       "      <td>598</td>\n",
       "    </tr>\n",
       "    <tr>\n",
       "      <th>29</th>\n",
       "      <td>soft</td>\n",
       "      <td>591</td>\n",
       "    </tr>\n",
       "  </tbody>\n",
       "</table>\n",
       "</div>"
      ],
      "text/plain": [
       "        word  frequency\n",
       "0      sweet       2003\n",
       "1       nice       1972\n",
       "2       good       1932\n",
       "3      black       1590\n",
       "4      white       1552\n",
       "5    overall       1545\n",
       "6      great       1435\n",
       "7     finish       1416\n",
       "8       dark       1400\n",
       "9       nose       1397\n",
       "10    little       1356\n",
       "11     light       1237\n",
       "12       big        922\n",
       "13       dry        918\n",
       "14      rich        883\n",
       "15      full        845\n",
       "16    smooth        818\n",
       "17  tropical        803\n",
       "18      much        798\n",
       "19      sour        782\n",
       "20     brown        774\n",
       "21     thick        730\n",
       "22    creamy        705\n",
       "23      best        685\n",
       "24      thin        685\n",
       "25       ive        644\n",
       "26     fresh        609\n",
       "27    bitter        608\n",
       "28    strong        598\n",
       "29      soft        591"
      ]
     },
     "execution_count": 7,
     "metadata": {},
     "output_type": "execute_result"
    }
   ],
   "source": [
    "tagged_tokens = nltk.pos_tag(tokens_no_stop_words) # Here, we get the parts of speech for each token, this is needed to filter by adjectives in a minute\n",
    "adjectives_only = [word for word, tag in tagged_tokens if tag in ['JJ','JJR','JJS']] # Filter for adjectives\n",
    "word_counts_adjectives = pd.DataFrame(data=nltk.FreqDist(adjectives_only).most_common(1_000_000), columns=['word','frequency']) \n",
    "word_counts_adjectives.head(30)"
   ]
  },
  {
   "cell_type": "markdown",
   "id": "27158616",
   "metadata": {},
   "source": [
    "This list is much more helpful! After exploring the list, we chose three attributes from this list and put them into a csv file called 'attributes.csv' which we will read from later on as we attempt to simulate a customer sending us their three chosen attributes. \n",
    "\n",
    "Our chosen attributes are: \"smooth\", \"creamy\", and \"tropical\"."
   ]
  },
  {
   "cell_type": "markdown",
   "id": "c986cd83",
   "metadata": {},
   "source": [
    "## Task C: Cosine Similarity"
   ]
  },
  {
   "cell_type": "code",
   "execution_count": 8,
   "id": "0f72bbdf",
   "metadata": {},
   "outputs": [
    {
     "data": {
      "text/plain": [
       "['smooth', 'creamy', 'tropical']"
      ]
     },
     "execution_count": 8,
     "metadata": {},
     "output_type": "execute_result"
    }
   ],
   "source": [
    "customers_attributes = list(pd.read_csv('attributes.csv')['attributes'])\n",
    "# customers_attributes = ['robust', 'crisp', 'hoppy'] # This line is for testing\n",
    "customers_attributes = ['smooth', 'creamy', 'tropical'] # This line is for testing\n",
    "customers_attributes = [word.lower() for word in customers_attributes]\n",
    "customers_attributes"
   ]
  },
  {
   "cell_type": "markdown",
   "id": "2d557d10",
   "metadata": {},
   "source": [
    "### To calculate the similarity between the 3 desired attributes provided by our customer and the products, we will calculate the cosine similarity between our attributes and each review using a Bag of Words approach. Then we will average the similarity scores across each product to to find the most similar products.\n",
    "<br><br>\n",
    "To calculate the similarities, we first need a document matrix where each row represents a review. The columns represent words where the value in each cell will be the number of occurrences of that word in that document. So we first create an empty data frame of zeros, and then we fill the cells in with the appropriate word counts:"
   ]
  },
  {
   "cell_type": "code",
   "execution_count": 9,
   "id": "e4511f46",
   "metadata": {},
   "outputs": [
    {
     "data": {
      "text/plain": [
       "0    17.0\n",
       "1    25.0\n",
       "2    39.0\n",
       "dtype: float64"
      ]
     },
     "execution_count": 9,
     "metadata": {},
     "output_type": "execute_result"
    }
   ],
   "source": [
    "all_words = sorted(set(word_counts_all['word'])) # unique words in the corpus\n",
    "df_words = pd.DataFrame(np.zeros((len(beer_data), len(all_words)))) # dataframe of zeros\n",
    "df_words.columns = all_words\n",
    "\n",
    "def get_tokens_no_stops(text:str):\n",
    "    \"\"\"Just tokenizes a string and removes stop words. It returns a list of tokens. This function is used to get the tokens for each review separately.\"\"\"\n",
    "    tokens = nltk.word_tokenize(text)\n",
    "    return [token for token in tokens if token not in english_stopwords]\n",
    "\n",
    "all_reviews_series = beer_data.cleaned_review.apply(get_tokens_no_stops) # Returns a series where the values are the tokenized versions of each review\n",
    "\n",
    "# The loop below will populate each cell in the df_words matrix with its appropraite value.\n",
    "for index, review in enumerate(all_reviews_series):\n",
    "    unique_words = set(review)\n",
    "    for word in unique_words:\n",
    "        df_words.loc[index, word] = review.count(word)\n",
    "\n",
    "# Just a quick check to make sure that the above actually worked\n",
    "df_words.sum(axis=1).head(3) # Each row should have some numbers now."
   ]
  },
  {
   "cell_type": "markdown",
   "id": "db7f0179",
   "metadata": {},
   "source": [
    "Now that we have our word vectors for each document, we can calculate the cosine similarity between each review and the chosen attributes: "
   ]
  },
  {
   "cell_type": "code",
   "execution_count": 10,
   "id": "e3f0e4ff",
   "metadata": {},
   "outputs": [],
   "source": [
    "def calculate_cosine_similarity(word_vector:pd.Series) -> float:\n",
    "    \"\"\"Calculate the cosine simlarity between two word vectors using bag of words.\"\"\"\n",
    "    # Because our attribute vectors are just 1's, the dot product is simply the sum of the word counts in the document word vector\n",
    "    numerator_total = 0\n",
    "    # This for loop below is just so that we don't try to index into our word vector if the attribute is not inside of our word vector. \n",
    "    for word_attribute in customers_attributes:\n",
    "        if word_attribute in word_vector:\n",
    "            numerator_total += word_vector[word_attribute] # add the count of the word attribute to our numerator sum\n",
    "\n",
    "    denominator = np.sqrt(sum(np.power(word_vector,2))) * np.sqrt(len(customers_attributes)) \n",
    "\n",
    "    return numerator_total/denominator\n",
    "\n",
    "# Returns a series of the similarities with attribute vector\n",
    "cosine_similarities = pd.DataFrame(df_words.apply(calculate_cosine_similarity, axis=1)) \n",
    "\n",
    "# Below we merge, the similarity information onto the product information we have above\n",
    "df_scores = pd.merge(beer_data['product_name'],cosine_similarities, left_index=True, right_index=True)\n",
    "df_scores.columns = ['product_name','cosine_similarity']"
   ]
  },
  {
   "cell_type": "markdown",
   "id": "79410edd",
   "metadata": {},
   "source": [
    "### Top 5 beers based on average cosine similarity:\n",
    "Now that we have the cosine similarity of each review with the chosen customer attributes, we can take the average similarity across each beer as our measure of total beer similarity to the attributes. The top five beers ranked by cosine similarity are presented below."
   ]
  },
  {
   "cell_type": "code",
   "execution_count": 11,
   "id": "315e46ab",
   "metadata": {},
   "outputs": [
    {
     "data": {
      "text/plain": [
       "product_name\n",
       "Double Dry Hopped Double Mosaic Daydream    0.115292\n",
       "Doubleganger                                0.112345\n",
       "King Julius                                 0.104317\n",
       "Gggreennn!                                  0.101801\n",
       "King JJJuliusss                             0.100903\n",
       "Name: cosine_similarity, dtype: float64"
      ]
     },
     "execution_count": 11,
     "metadata": {},
     "output_type": "execute_result"
    }
   ],
   "source": [
    "avg_cosine_similarities = df_scores.groupby('product_name')['cosine_similarity'].mean().sort_values(ascending=False)\n",
    "avg_cosine_similarities[:5]"
   ]
  },
  {
   "cell_type": "markdown",
   "id": "5dea3c98",
   "metadata": {},
   "source": [
    "## Task D: Sentiment Analysis\n",
    "But a recommendation based only on similar words is incomplete and we should also include a measure of sentiment. Below, we calculate a sentiment score using VADER."
   ]
  },
  {
   "cell_type": "code",
   "execution_count": 12,
   "id": "01699c49",
   "metadata": {},
   "outputs": [],
   "source": [
    "sid = SentimentIntensityAnalyzer()\n",
    "df_scores['polarity'] = beer_data.product_review.apply(sid.polarity_scores) # Get the sentiment scores for each review\n",
    "df_scores['sentiment_score'] = df_scores.polarity.apply(lambda score_dict: score_dict['compound']) # Extract the compound score for each review and put it into its own column\n",
    "df_scores = df_scores.drop(columns='polarity')"
   ]
  },
  {
   "cell_type": "markdown",
   "id": "0959101a",
   "metadata": {},
   "source": [
    "With the sentiment scores calculated, we show the top 5 beers, ranked by highest sentiment below:"
   ]
  },
  {
   "cell_type": "code",
   "execution_count": 13,
   "id": "0a8822ad",
   "metadata": {},
   "outputs": [
    {
     "data": {
      "text/plain": [
       "product_name\n",
       "Cable Car Kriek                              0.911064\n",
       "Genealogy Of Morals - Bourbon Barrel-Aged    0.904744\n",
       "Cable Car                                    0.904356\n",
       "Mother Of All Storms                         0.903976\n",
       "Expedition Stout - Bourbon Barrel-Aged       0.899836\n",
       "Name: sentiment_score, dtype: float64"
      ]
     },
     "execution_count": 13,
     "metadata": {},
     "output_type": "execute_result"
    }
   ],
   "source": [
    "avg_sentiments = df_scores.groupby('product_name')['sentiment_score'].mean().sort_values(ascending=False)\n",
    "avg_sentiments.head()"
   ]
  },
  {
   "cell_type": "markdown",
   "id": "369a9290",
   "metadata": {},
   "source": [
    "## Task E: Recommendation\n",
    "To recommend 3 beers to our customer, we calculate a combined evaluation score for each beer as:\n",
    " $$EvaluationScore = Average(CosineSimilarity) + Average(SentimentScore)$$"
   ]
  },
  {
   "cell_type": "markdown",
   "id": "7c51a571",
   "metadata": {},
   "source": [
    "Calculate the average evaluation scores for the beers and sort in descending order:"
   ]
  },
  {
   "cell_type": "code",
   "execution_count": 14,
   "id": "6b1e5a7c",
   "metadata": {},
   "outputs": [
    {
     "data": {
      "text/html": [
       "<div>\n",
       "<style scoped>\n",
       "    .dataframe tbody tr th:only-of-type {\n",
       "        vertical-align: middle;\n",
       "    }\n",
       "\n",
       "    .dataframe tbody tr th {\n",
       "        vertical-align: top;\n",
       "    }\n",
       "\n",
       "    .dataframe thead th {\n",
       "        text-align: right;\n",
       "    }\n",
       "</style>\n",
       "<table border=\"1\" class=\"dataframe\">\n",
       "  <thead>\n",
       "    <tr style=\"text-align: right;\">\n",
       "      <th></th>\n",
       "      <th>cosine_similarity</th>\n",
       "      <th>sentiment_score</th>\n",
       "      <th>evaluation_score</th>\n",
       "    </tr>\n",
       "    <tr>\n",
       "      <th>product_name</th>\n",
       "      <th></th>\n",
       "      <th></th>\n",
       "      <th></th>\n",
       "    </tr>\n",
       "  </thead>\n",
       "  <tbody>\n",
       "    <tr>\n",
       "      <th>Genealogy Of Morals - Bourbon Barrel-Aged</th>\n",
       "      <td>0.035481</td>\n",
       "      <td>0.904744</td>\n",
       "      <td>0.940225</td>\n",
       "    </tr>\n",
       "    <tr>\n",
       "      <th>Double Dry Hopped Double Mosaic Daydream</th>\n",
       "      <td>0.115292</td>\n",
       "      <td>0.823236</td>\n",
       "      <td>0.938528</td>\n",
       "    </tr>\n",
       "    <tr>\n",
       "      <th>Mother Of All Storms</th>\n",
       "      <td>0.033400</td>\n",
       "      <td>0.903976</td>\n",
       "      <td>0.937376</td>\n",
       "    </tr>\n",
       "  </tbody>\n",
       "</table>\n",
       "</div>"
      ],
      "text/plain": [
       "                                           cosine_similarity  sentiment_score  \\\n",
       "product_name                                                                    \n",
       "Genealogy Of Morals - Bourbon Barrel-Aged           0.035481         0.904744   \n",
       "Double Dry Hopped Double Mosaic Daydream            0.115292         0.823236   \n",
       "Mother Of All Storms                                0.033400         0.903976   \n",
       "\n",
       "                                           evaluation_score  \n",
       "product_name                                                 \n",
       "Genealogy Of Morals - Bourbon Barrel-Aged          0.940225  \n",
       "Double Dry Hopped Double Mosaic Daydream           0.938528  \n",
       "Mother Of All Storms                               0.937376  "
      ]
     },
     "execution_count": 14,
     "metadata": {},
     "output_type": "execute_result"
    }
   ],
   "source": [
    "df_scores['evaluation_score'] = df_scores['cosine_similarity'] + df_scores['sentiment_score']\n",
    "average_metrics = df_scores.groupby('product_name').mean().sort_values(by='evaluation_score',ascending=False)\n",
    "average_metrics.head(3)"
   ]
  },
  {
   "cell_type": "markdown",
   "id": "1196e5c1",
   "metadata": {},
   "source": [
    "### Recommend the beers below!"
   ]
  },
  {
   "cell_type": "code",
   "execution_count": 15,
   "id": "b8628ea0",
   "metadata": {},
   "outputs": [
    {
     "data": {
      "text/plain": [
       "['Genealogy Of Morals - Bourbon Barrel-Aged',\n",
       " 'Double Dry Hopped Double Mosaic Daydream',\n",
       " 'Mother Of All Storms']"
      ]
     },
     "execution_count": 15,
     "metadata": {},
     "output_type": "execute_result"
    }
   ],
   "source": [
    "recommended_beers = list(average_metrics.index[:3])\n",
    "recommended_beers"
   ]
  },
  {
   "cell_type": "markdown",
   "id": "4cb351e7",
   "metadata": {},
   "source": [
    "## Task F: Spacy VS Bag of Words\n",
    "\n",
    "We have our recommendations using bag of words approach for calculating similarity, but how would these results compare to those found if we used spacy's word vectors to calculate similarity?"
   ]
  },
  {
   "cell_type": "markdown",
   "id": "2cfbee7b",
   "metadata": {},
   "source": [
    "To answer this question, we will simply calculate the similarity between reviews and our customer attributes using spacy. This is very similar to the approach we used above."
   ]
  },
  {
   "cell_type": "markdown",
   "id": "ff030cf3",
   "metadata": {},
   "source": [
    "Below, we add the spacy similarity metric to our 'df_scores' dataframe."
   ]
  },
  {
   "cell_type": "markdown",
   "id": "07972113",
   "metadata": {},
   "source": [
    "Warning, below cell takes a few minutes to run!!"
   ]
  },
  {
   "cell_type": "code",
   "execution_count": 16,
   "id": "f77c60fe",
   "metadata": {},
   "outputs": [
    {
     "name": "stderr",
     "output_type": "stream",
     "text": [
      "<ipython-input-16-4f8d53207b73>:8: UserWarning: [W007] The model you're using has no word vectors loaded, so the result of the Doc.similarity method will be based on the tagger, parser and NER, which may not give useful similarity judgements. This may happen if you're using one of the small models, e.g. `en_core_web_sm`, which don't ship with word vectors and only use context-sensitive tensors. You can always add your own word vectors, or use one of the larger models instead if available.\n",
      "  return review.similarity(attributes)\n"
     ]
    }
   ],
   "source": [
    "import spacy\n",
    "nlp = spacy.load('en_core_web_sm') \n",
    "\n",
    "def get_spacy_similarity(text:str):\n",
    "    \"\"\"Get spacy similarity between our attributes and a review\"\"\"\n",
    "    review = nlp(text)\n",
    "    attributes = nlp(' '.join(customers_attributes))\n",
    "    return review.similarity(attributes)\n",
    "\n",
    "df_scores['spacy_similarity'] = beer_data['cleaned_review'].apply(get_spacy_similarity)"
   ]
  },
  {
   "cell_type": "markdown",
   "id": "e0275349",
   "metadata": {},
   "source": [
    "Top 5 beers based on Spacy similarity are shown below:"
   ]
  },
  {
   "cell_type": "code",
   "execution_count": 17,
   "id": "e5504ee4",
   "metadata": {},
   "outputs": [],
   "source": [
    "avg_spacy_similarity = df_scores.groupby('product_name')['spacy_similarity'].mean().sort_values(ascending=False)"
   ]
  },
  {
   "cell_type": "markdown",
   "id": "e9ce1220",
   "metadata": {},
   "source": [
    "Get, the top 3 recommendations below:"
   ]
  },
  {
   "cell_type": "code",
   "execution_count": 18,
   "id": "0d893492",
   "metadata": {},
   "outputs": [
    {
     "data": {
      "text/html": [
       "<div>\n",
       "<style scoped>\n",
       "    .dataframe tbody tr th:only-of-type {\n",
       "        vertical-align: middle;\n",
       "    }\n",
       "\n",
       "    .dataframe tbody tr th {\n",
       "        vertical-align: top;\n",
       "    }\n",
       "\n",
       "    .dataframe thead th {\n",
       "        text-align: right;\n",
       "    }\n",
       "</style>\n",
       "<table border=\"1\" class=\"dataframe\">\n",
       "  <thead>\n",
       "    <tr style=\"text-align: right;\">\n",
       "      <th></th>\n",
       "      <th>sentiment_score</th>\n",
       "      <th>spacy_similarity</th>\n",
       "      <th>evaluation_score_spacy</th>\n",
       "    </tr>\n",
       "    <tr>\n",
       "      <th>product_name</th>\n",
       "      <th></th>\n",
       "      <th></th>\n",
       "      <th></th>\n",
       "    </tr>\n",
       "  </thead>\n",
       "  <tbody>\n",
       "    <tr>\n",
       "      <th>Mother Of All Storms</th>\n",
       "      <td>0.903976</td>\n",
       "      <td>0.468992</td>\n",
       "      <td>1.372968</td>\n",
       "    </tr>\n",
       "    <tr>\n",
       "      <th>Zenne Y Frontera</th>\n",
       "      <td>0.880060</td>\n",
       "      <td>0.487365</td>\n",
       "      <td>1.367425</td>\n",
       "    </tr>\n",
       "    <tr>\n",
       "      <th>Cable Car Kriek</th>\n",
       "      <td>0.911064</td>\n",
       "      <td>0.444171</td>\n",
       "      <td>1.355235</td>\n",
       "    </tr>\n",
       "  </tbody>\n",
       "</table>\n",
       "</div>"
      ],
      "text/plain": [
       "                      sentiment_score  spacy_similarity  \\\n",
       "product_name                                              \n",
       "Mother Of All Storms         0.903976          0.468992   \n",
       "Zenne Y Frontera             0.880060          0.487365   \n",
       "Cable Car Kriek              0.911064          0.444171   \n",
       "\n",
       "                      evaluation_score_spacy  \n",
       "product_name                                  \n",
       "Mother Of All Storms                1.372968  \n",
       "Zenne Y Frontera                    1.367425  \n",
       "Cable Car Kriek                     1.355235  "
      ]
     },
     "execution_count": 18,
     "metadata": {},
     "output_type": "execute_result"
    }
   ],
   "source": [
    "df_scores['evaluation_score_spacy'] = df_scores['spacy_similarity'] + df_scores['sentiment_score']\n",
    "average_metrics_spacy = df_scores.groupby('product_name')[['sentiment_score','spacy_similarity','evaluation_score_spacy']].mean().sort_values(by='evaluation_score_spacy',ascending=False)\n",
    "average_metrics_spacy.head(3)"
   ]
  },
  {
   "cell_type": "code",
   "execution_count": 19,
   "id": "fe2385e8",
   "metadata": {},
   "outputs": [
    {
     "data": {
      "text/plain": [
       "['Mother Of All Storms', 'Zenne Y Frontera', 'Cable Car Kriek']"
      ]
     },
     "execution_count": 19,
     "metadata": {},
     "output_type": "execute_result"
    }
   ],
   "source": [
    "recommended_beers_spacy = list(average_metrics_spacy.index[:3])\n",
    "recommended_beers_spacy"
   ]
  },
  {
   "cell_type": "markdown",
   "id": "26d34348",
   "metadata": {},
   "source": [
    "Now, we can compare how both measures perform. We will look at the reviews of the products recommended and calculate the percentage of reviews for each product that mentions one of the preferred attributes."
   ]
  },
  {
   "cell_type": "code",
   "execution_count": 20,
   "id": "e41cdd72",
   "metadata": {},
   "outputs": [],
   "source": [
    "def get_word_percent_df(recommended_beers:list,df_words:pd.DataFrame):\n",
    "    \"\"\"This function will compute the % of reviews that contained the customer attributes. Just send in a list of the attributes and the entire df_words dataframe.\"\"\"\n",
    "    \n",
    "    df_words_recommended =  beer_data[['product_name']].merge(df_words,left_index=True,right_index=True)\n",
    "    df_words_recommended = df_words_recommended[df_words_recommended['product_name'].isin(recommended_beers)] # Only look at reviews for recommended beers\n",
    "    df_words_recommended = df_words_recommended[['product_name'] + customers_attributes] # Only keep the columns with the customer attributes chosen\n",
    "    # df_words_recommended['any_attribute'] = df_words_recommended.sum(axis=1).astype(bool) \n",
    "    df_words_recommended[customers_attributes] = df_words_recommended[customers_attributes].astype(bool)\n",
    "\n",
    "    return df_words_recommended.groupby('product_name').sum()/df_words_recommended.groupby('product_name').count()\n"
   ]
  },
  {
   "cell_type": "markdown",
   "id": "155626bc",
   "metadata": {},
   "source": [
    "### Percent of reviews containing an attribute using the cosine similarity approach:"
   ]
  },
  {
   "cell_type": "code",
   "execution_count": 21,
   "id": "d5f19c2a",
   "metadata": {},
   "outputs": [
    {
     "data": {
      "text/html": [
       "<div>\n",
       "<style scoped>\n",
       "    .dataframe tbody tr th:only-of-type {\n",
       "        vertical-align: middle;\n",
       "    }\n",
       "\n",
       "    .dataframe tbody tr th {\n",
       "        vertical-align: top;\n",
       "    }\n",
       "\n",
       "    .dataframe thead th {\n",
       "        text-align: right;\n",
       "    }\n",
       "</style>\n",
       "<table border=\"1\" class=\"dataframe\">\n",
       "  <thead>\n",
       "    <tr style=\"text-align: right;\">\n",
       "      <th></th>\n",
       "      <th>smooth</th>\n",
       "      <th>creamy</th>\n",
       "      <th>tropical</th>\n",
       "    </tr>\n",
       "    <tr>\n",
       "      <th>product_name</th>\n",
       "      <th></th>\n",
       "      <th></th>\n",
       "      <th></th>\n",
       "    </tr>\n",
       "  </thead>\n",
       "  <tbody>\n",
       "    <tr>\n",
       "      <th>Double Dry Hopped Double Mosaic Daydream</th>\n",
       "      <td>0.16</td>\n",
       "      <td>0.44</td>\n",
       "      <td>0.6</td>\n",
       "    </tr>\n",
       "    <tr>\n",
       "      <th>Genealogy Of Morals - Bourbon Barrel-Aged</th>\n",
       "      <td>0.28</td>\n",
       "      <td>0.08</td>\n",
       "      <td>0.0</td>\n",
       "    </tr>\n",
       "    <tr>\n",
       "      <th>Mother Of All Storms</th>\n",
       "      <td>0.32</td>\n",
       "      <td>0.12</td>\n",
       "      <td>0.0</td>\n",
       "    </tr>\n",
       "  </tbody>\n",
       "</table>\n",
       "</div>"
      ],
      "text/plain": [
       "                                           smooth  creamy  tropical\n",
       "product_name                                                       \n",
       "Double Dry Hopped Double Mosaic Daydream     0.16    0.44       0.6\n",
       "Genealogy Of Morals - Bourbon Barrel-Aged    0.28    0.08       0.0\n",
       "Mother Of All Storms                         0.32    0.12       0.0"
      ]
     },
     "execution_count": 21,
     "metadata": {},
     "output_type": "execute_result"
    }
   ],
   "source": [
    "get_word_percent_df(recommended_beers,df_words)"
   ]
  },
  {
   "cell_type": "markdown",
   "id": "cd369048",
   "metadata": {},
   "source": [
    "### Percent of reviews containing an attribute using the spacy similarity approach:"
   ]
  },
  {
   "cell_type": "code",
   "execution_count": 22,
   "id": "7e0fa761",
   "metadata": {},
   "outputs": [
    {
     "data": {
      "text/html": [
       "<div>\n",
       "<style scoped>\n",
       "    .dataframe tbody tr th:only-of-type {\n",
       "        vertical-align: middle;\n",
       "    }\n",
       "\n",
       "    .dataframe tbody tr th {\n",
       "        vertical-align: top;\n",
       "    }\n",
       "\n",
       "    .dataframe thead th {\n",
       "        text-align: right;\n",
       "    }\n",
       "</style>\n",
       "<table border=\"1\" class=\"dataframe\">\n",
       "  <thead>\n",
       "    <tr style=\"text-align: right;\">\n",
       "      <th></th>\n",
       "      <th>smooth</th>\n",
       "      <th>creamy</th>\n",
       "      <th>tropical</th>\n",
       "    </tr>\n",
       "    <tr>\n",
       "      <th>product_name</th>\n",
       "      <th></th>\n",
       "      <th></th>\n",
       "      <th></th>\n",
       "    </tr>\n",
       "  </thead>\n",
       "  <tbody>\n",
       "    <tr>\n",
       "      <th>Cable Car Kriek</th>\n",
       "      <td>0.12</td>\n",
       "      <td>0.00</td>\n",
       "      <td>0.0</td>\n",
       "    </tr>\n",
       "    <tr>\n",
       "      <th>Mother Of All Storms</th>\n",
       "      <td>0.32</td>\n",
       "      <td>0.12</td>\n",
       "      <td>0.0</td>\n",
       "    </tr>\n",
       "    <tr>\n",
       "      <th>Zenne Y Frontera</th>\n",
       "      <td>0.12</td>\n",
       "      <td>0.00</td>\n",
       "      <td>0.0</td>\n",
       "    </tr>\n",
       "  </tbody>\n",
       "</table>\n",
       "</div>"
      ],
      "text/plain": [
       "                      smooth  creamy  tropical\n",
       "product_name                                  \n",
       "Cable Car Kriek         0.12    0.00       0.0\n",
       "Mother Of All Storms    0.32    0.12       0.0\n",
       "Zenne Y Frontera        0.12    0.00       0.0"
      ]
     },
     "execution_count": 22,
     "metadata": {},
     "output_type": "execute_result"
    }
   ],
   "source": [
    "get_word_percent_df(recommended_beers_spacy, df_words)"
   ]
  },
  {
   "cell_type": "markdown",
   "id": "3761d99a",
   "metadata": {},
   "source": [
    "## Task G:\n",
    "\n",
    "How do the recommendations we have provided above compare to the basic approach of just recommending the highest rated beers?"
   ]
  },
  {
   "cell_type": "code",
   "execution_count": 23,
   "id": "62b21b41",
   "metadata": {},
   "outputs": [
    {
     "data": {
      "text/plain": [
       "['Chemtrailmix', 'Vanilla Bean Assassin', 'Blessed']"
      ]
     },
     "execution_count": 23,
     "metadata": {},
     "output_type": "execute_result"
    }
   ],
   "source": [
    "# Add ratings to our scores dataframe and merge it onto a ne df containing all scores\n",
    "df_scores_all = df_scores.copy()\n",
    "df_scores_all = df_scores_all.merge(beer_data[['user_rating']],left_index=True, right_index=True)\n",
    "\n",
    "# Aggregate all the average metrics into one dataframe which makes comparisons easy\n",
    "avg_metrics_all = df_scores_all.groupby('product_name').mean().sort_values(by='user_rating',ascending=False)\n",
    "\n",
    "highest_avg_ratings = avg_metrics_all['user_rating']\n",
    "recommended_beers_avg_rating = list(highest_avg_ratings.index[:3])\n",
    "recommended_beers_avg_rating"
   ]
  },
  {
   "cell_type": "markdown",
   "id": "80a551d7",
   "metadata": {},
   "source": [
    "### Let's see how these beers chosen from the top rated beers compare to the rankings based on our similarity scores:"
   ]
  },
  {
   "cell_type": "markdown",
   "id": "a21287ed",
   "metadata": {},
   "source": [
    "The below table allows us to put the specific numbers of the highest rated beers into the context of the entire data set:"
   ]
  },
  {
   "cell_type": "code",
   "execution_count": 24,
   "id": "265d42a2",
   "metadata": {},
   "outputs": [
    {
     "data": {
      "text/html": [
       "<div>\n",
       "<style scoped>\n",
       "    .dataframe tbody tr th:only-of-type {\n",
       "        vertical-align: middle;\n",
       "    }\n",
       "\n",
       "    .dataframe tbody tr th {\n",
       "        vertical-align: top;\n",
       "    }\n",
       "\n",
       "    .dataframe thead th {\n",
       "        text-align: right;\n",
       "    }\n",
       "</style>\n",
       "<table border=\"1\" class=\"dataframe\">\n",
       "  <thead>\n",
       "    <tr style=\"text-align: right;\">\n",
       "      <th></th>\n",
       "      <th>cosine_similarity</th>\n",
       "      <th>sentiment_score</th>\n",
       "      <th>evaluation_score</th>\n",
       "      <th>spacy_similarity</th>\n",
       "      <th>evaluation_score_spacy</th>\n",
       "      <th>user_rating</th>\n",
       "    </tr>\n",
       "  </thead>\n",
       "  <tbody>\n",
       "    <tr>\n",
       "      <th>count</th>\n",
       "      <td>250.000000</td>\n",
       "      <td>250.000000</td>\n",
       "      <td>250.000000</td>\n",
       "      <td>250.000000</td>\n",
       "      <td>250.000000</td>\n",
       "      <td>250.000000</td>\n",
       "    </tr>\n",
       "    <tr>\n",
       "      <th>mean</th>\n",
       "      <td>0.035475</td>\n",
       "      <td>0.757478</td>\n",
       "      <td>0.792953</td>\n",
       "      <td>0.437689</td>\n",
       "      <td>1.195166</td>\n",
       "      <td>4.477383</td>\n",
       "    </tr>\n",
       "    <tr>\n",
       "      <th>std</th>\n",
       "      <td>0.023869</td>\n",
       "      <td>0.081259</td>\n",
       "      <td>0.080378</td>\n",
       "      <td>0.038093</td>\n",
       "      <td>0.088700</td>\n",
       "      <td>0.110307</td>\n",
       "    </tr>\n",
       "    <tr>\n",
       "      <th>min</th>\n",
       "      <td>0.001089</td>\n",
       "      <td>0.468052</td>\n",
       "      <td>0.501756</td>\n",
       "      <td>0.319957</td>\n",
       "      <td>0.897976</td>\n",
       "      <td>4.192800</td>\n",
       "    </tr>\n",
       "    <tr>\n",
       "      <th>25%</th>\n",
       "      <td>0.017426</td>\n",
       "      <td>0.718742</td>\n",
       "      <td>0.748310</td>\n",
       "      <td>0.417146</td>\n",
       "      <td>1.148008</td>\n",
       "      <td>4.397300</td>\n",
       "    </tr>\n",
       "    <tr>\n",
       "      <th>50%</th>\n",
       "      <td>0.032159</td>\n",
       "      <td>0.767404</td>\n",
       "      <td>0.802559</td>\n",
       "      <td>0.441315</td>\n",
       "      <td>1.203540</td>\n",
       "      <td>4.474400</td>\n",
       "    </tr>\n",
       "    <tr>\n",
       "      <th>75%</th>\n",
       "      <td>0.046235</td>\n",
       "      <td>0.814274</td>\n",
       "      <td>0.853881</td>\n",
       "      <td>0.463082</td>\n",
       "      <td>1.256228</td>\n",
       "      <td>4.542000</td>\n",
       "    </tr>\n",
       "    <tr>\n",
       "      <th>max</th>\n",
       "      <td>0.115292</td>\n",
       "      <td>0.911064</td>\n",
       "      <td>0.940225</td>\n",
       "      <td>0.520613</td>\n",
       "      <td>1.372968</td>\n",
       "      <td>4.771600</td>\n",
       "    </tr>\n",
       "  </tbody>\n",
       "</table>\n",
       "</div>"
      ],
      "text/plain": [
       "       cosine_similarity  sentiment_score  evaluation_score  spacy_similarity  \\\n",
       "count         250.000000       250.000000        250.000000        250.000000   \n",
       "mean            0.035475         0.757478          0.792953          0.437689   \n",
       "std             0.023869         0.081259          0.080378          0.038093   \n",
       "min             0.001089         0.468052          0.501756          0.319957   \n",
       "25%             0.017426         0.718742          0.748310          0.417146   \n",
       "50%             0.032159         0.767404          0.802559          0.441315   \n",
       "75%             0.046235         0.814274          0.853881          0.463082   \n",
       "max             0.115292         0.911064          0.940225          0.520613   \n",
       "\n",
       "       evaluation_score_spacy  user_rating  \n",
       "count              250.000000   250.000000  \n",
       "mean                 1.195166     4.477383  \n",
       "std                  0.088700     0.110307  \n",
       "min                  0.897976     4.192800  \n",
       "25%                  1.148008     4.397300  \n",
       "50%                  1.203540     4.474400  \n",
       "75%                  1.256228     4.542000  \n",
       "max                  1.372968     4.771600  "
      ]
     },
     "execution_count": 24,
     "metadata": {},
     "output_type": "execute_result"
    }
   ],
   "source": [
    "avg_metrics_all.describe()"
   ]
  },
  {
   "cell_type": "code",
   "execution_count": 25,
   "id": "de05423f",
   "metadata": {},
   "outputs": [
    {
     "data": {
      "text/html": [
       "<div>\n",
       "<style scoped>\n",
       "    .dataframe tbody tr th:only-of-type {\n",
       "        vertical-align: middle;\n",
       "    }\n",
       "\n",
       "    .dataframe tbody tr th {\n",
       "        vertical-align: top;\n",
       "    }\n",
       "\n",
       "    .dataframe thead th {\n",
       "        text-align: right;\n",
       "    }\n",
       "</style>\n",
       "<table border=\"1\" class=\"dataframe\">\n",
       "  <thead>\n",
       "    <tr style=\"text-align: right;\">\n",
       "      <th></th>\n",
       "      <th>cosine_similarity</th>\n",
       "      <th>sentiment_score</th>\n",
       "      <th>evaluation_score</th>\n",
       "      <th>spacy_similarity</th>\n",
       "      <th>evaluation_score_spacy</th>\n",
       "      <th>user_rating</th>\n",
       "    </tr>\n",
       "    <tr>\n",
       "      <th>product_name</th>\n",
       "      <th></th>\n",
       "      <th></th>\n",
       "      <th></th>\n",
       "      <th></th>\n",
       "      <th></th>\n",
       "      <th></th>\n",
       "    </tr>\n",
       "  </thead>\n",
       "  <tbody>\n",
       "    <tr>\n",
       "      <th>Chemtrailmix</th>\n",
       "      <td>0.016081</td>\n",
       "      <td>0.786360</td>\n",
       "      <td>0.802441</td>\n",
       "      <td>0.429870</td>\n",
       "      <td>1.216230</td>\n",
       "      <td>4.77160</td>\n",
       "    </tr>\n",
       "    <tr>\n",
       "      <th>Vanilla Bean Assassin</th>\n",
       "      <td>0.007693</td>\n",
       "      <td>0.826438</td>\n",
       "      <td>0.834131</td>\n",
       "      <td>0.418218</td>\n",
       "      <td>1.244655</td>\n",
       "      <td>4.74625</td>\n",
       "    </tr>\n",
       "    <tr>\n",
       "      <th>Blessed</th>\n",
       "      <td>0.016965</td>\n",
       "      <td>0.784832</td>\n",
       "      <td>0.801797</td>\n",
       "      <td>0.382770</td>\n",
       "      <td>1.167602</td>\n",
       "      <td>4.74280</td>\n",
       "    </tr>\n",
       "  </tbody>\n",
       "</table>\n",
       "</div>"
      ],
      "text/plain": [
       "                       cosine_similarity  sentiment_score  evaluation_score  \\\n",
       "product_name                                                                  \n",
       "Chemtrailmix                    0.016081         0.786360          0.802441   \n",
       "Vanilla Bean Assassin           0.007693         0.826438          0.834131   \n",
       "Blessed                         0.016965         0.784832          0.801797   \n",
       "\n",
       "                       spacy_similarity  evaluation_score_spacy  user_rating  \n",
       "product_name                                                                  \n",
       "Chemtrailmix                   0.429870                1.216230      4.77160  \n",
       "Vanilla Bean Assassin          0.418218                1.244655      4.74625  \n",
       "Blessed                        0.382770                1.167602      4.74280  "
      ]
     },
     "execution_count": 25,
     "metadata": {},
     "output_type": "execute_result"
    }
   ],
   "source": [
    "avg_metrics_all.loc[recommended_beers_avg_rating]"
   ]
  },
  {
   "cell_type": "markdown",
   "id": "3ce43057",
   "metadata": {},
   "source": [
    "The above table shows the average similarities between the highest rated beers and the chosen customer attributes are extremely low. This dissimilarity becomes more apparent when focusing on just the cosine similarity, where we see that all three recommended beers lie in the bottom quartile in terms of cosine similarity. This result indicates that the reviews for the highest rated beers do not frequently discuss the attributes that an individual customer prefers!\n",
    "\n",
    "These high-rated beers have just mediocre sentiment scores and evaluation scores. Suppose we assume that our calculated evaluation scores are the better predictor of customer desires. In that case, it's quite clear that choosing the highest-rated beers will likely provide the customer with a mediocre experience.\n",
    "\n",
    "Simply recommending the highest rated beers may be a safe choice as you are unlikely to recommend something where the customer will have a truly horrible experience. However, you are also unlikely to satisfy your customer on a deeper level and generate the customer passion needed to thrive. Businesses can die on customer indifference. "
   ]
  },
  {
   "cell_type": "code",
   "execution_count": 26,
   "id": "5b5e3f41",
   "metadata": {},
   "outputs": [
    {
     "data": {
      "text/html": [
       "<div>\n",
       "<style scoped>\n",
       "    .dataframe tbody tr th:only-of-type {\n",
       "        vertical-align: middle;\n",
       "    }\n",
       "\n",
       "    .dataframe tbody tr th {\n",
       "        vertical-align: top;\n",
       "    }\n",
       "\n",
       "    .dataframe thead th {\n",
       "        text-align: right;\n",
       "    }\n",
       "</style>\n",
       "<table border=\"1\" class=\"dataframe\">\n",
       "  <thead>\n",
       "    <tr style=\"text-align: right;\">\n",
       "      <th></th>\n",
       "      <th>smooth</th>\n",
       "      <th>creamy</th>\n",
       "      <th>tropical</th>\n",
       "    </tr>\n",
       "    <tr>\n",
       "      <th>product_name</th>\n",
       "      <th></th>\n",
       "      <th></th>\n",
       "      <th></th>\n",
       "    </tr>\n",
       "  </thead>\n",
       "  <tbody>\n",
       "    <tr>\n",
       "      <th>Blessed</th>\n",
       "      <td>0.2000</td>\n",
       "      <td>0.04</td>\n",
       "      <td>0.0</td>\n",
       "    </tr>\n",
       "    <tr>\n",
       "      <th>Chemtrailmix</th>\n",
       "      <td>0.1600</td>\n",
       "      <td>0.08</td>\n",
       "      <td>0.0</td>\n",
       "    </tr>\n",
       "    <tr>\n",
       "      <th>Vanilla Bean Assassin</th>\n",
       "      <td>0.0625</td>\n",
       "      <td>0.00</td>\n",
       "      <td>0.0</td>\n",
       "    </tr>\n",
       "  </tbody>\n",
       "</table>\n",
       "</div>"
      ],
      "text/plain": [
       "                       smooth  creamy  tropical\n",
       "product_name                                   \n",
       "Blessed                0.2000    0.04       0.0\n",
       "Chemtrailmix           0.1600    0.08       0.0\n",
       "Vanilla Bean Assassin  0.0625    0.00       0.0"
      ]
     },
     "execution_count": 26,
     "metadata": {},
     "output_type": "execute_result"
    }
   ],
   "source": [
    "get_word_percent_df(recommended_beers_avg_rating, df_words)"
   ]
  },
  {
   "cell_type": "markdown",
   "id": "4aff0b65",
   "metadata": {},
   "source": [
    "The above table shows the percentage of reviews for each beer that mentioned the customer-provided attributes. These scores are much lower than the ones we found using spacy similarity and cosine similarity, which makes sense because choosing the highest-rated beers does not use the attribute information to make the recommendation! The above table tells us that beers with high ratings tend to discuss the feature of smoothness frequently. Or simply that 'smooth' appears in many reviews. \n",
    "\n",
    "<br>\n",
    "\n",
    "### Overall, the three highest-rated products do not meet the requirements of the user seeking recommendations.  We also feel that completely ignoring a customer's stated preferences and blindly recommending high-rated beers should be considered business malpractice. The discrepancy between user ratings and tangible recommendations based on specific attributes demonstrates the need for crowd-sourced recommender systems to discover products better suited to customer-specific requirements.  Ultimately, this relates to the long tail of products. If users deferred to the highest-rated products, they may come away unsatisfied with their purchases and would be none the wiser that there are products better suited to their needs."
   ]
  }
 ],
 "metadata": {
  "interpreter": {
   "hash": "2647ea34e536f865ab67ff9ddee7fd78773d956cec0cab53c79b32cd10da5d83"
  },
  "kernelspec": {
   "display_name": "Python 3.9.5 64-bit",
   "name": "python3"
  },
  "language_info": {
   "codemirror_mode": {
    "name": "ipython",
    "version": 3
   },
   "file_extension": ".py",
   "mimetype": "text/x-python",
   "name": "python",
   "nbconvert_exporter": "python",
   "pygments_lexer": "ipython3",
   "version": "3.9.5"
  }
 },
 "nbformat": 4,
 "nbformat_minor": 5
}
