{
  "cells": [
    {
      "cell_type": "markdown",
      "metadata": {},
      "source": [
        "# Team Members:\n",
        "\n",
        "* Brandt Green: EID = bwg537\n",
        "* Bret Jaco: EID = bcj646"
      ]
    },
    {
      "cell_type": "markdown",
      "metadata": {
        "id": "evHVxwk2JA-3"
      },
      "source": [
        "# <p style=\"text-align: center;\">MIS 382N: Advanced Machine Learning</p>\n",
        "# <p style=\"text-align: center;\">Homework 1</p>\n",
        "## <p style=\"text-align: center;\">Total points: 55</p>\n",
        "## <p style=\"text-align: center;\">Due: Wednesday, **Sep 10** submitted via Canvas by 11:59 pm</p>\n",
        "\n",
        "Your homework should be written in a **Jupyter notebook**. Please make sure your code runs and the graphics (and anything else) are displayed in your notebook before submitting (%matplotlib inline). **This can be an individual assignment or group of 2. If you choose to do it as a group, please specify who you are working with (name and EID), then only one student should submit the homework.**\n",
        "\n",
        "**Note: Notebooks MUST have the images embedded in them. There will be no regrades if attached images do not render in the notebook. Please re download from canvas after submission and make sure all attached images render without errors. (Hint: Image module from IPython.display)**"
      ]
    },
    {
      "cell_type": "markdown",
      "metadata": {
        "id": "0eTfjKUv7_Yo"
      },
      "source": []
    },
    {
      "cell_type": "markdown",
      "metadata": {
        "id": "TWWU_gOSLEEv"
      },
      "source": [
        "# Question 1: MLOps (10 pts)\n",
        "Read this [article](https://towardsdatascience.com/what-is-mlops-everything-you-must-know-to-get-started-523f2d0b8bd8) \"What is MLOps — Everything You Must Know to Get Started\", which gives a quick walkthrough of the machine learning development lifecycle and explains how MLOps come into play, or watch this [video](https://www.youtube.com/watch?v=06-AZXmwHjo) which you may find interesting.\n",
        "\n",
        "1. (**4 pts**) Use your own words to describe what MLOps is, and what challenges MLOps address. Limit your answer to one paragraph.\n",
        "\n",
        "2. (**6 pts**) Describe what the main phases in MLOps are. Your answer should be 2-3 paragraphs.\n",
        "\n",
        "\n",
        "## Answer:\n",
        "\n",
        "1. ML Ops is the process and infrastructure that is built up around projects that use machine learning to ensure that the projects are able to perform optimally on a continuous basis. Creating models and algorithms to make decisions is only one piece of a successful business operation. To succeed on an ongoing basis you must also take into account: data collection, data validation, model monitoring, software infrastructure, communication of results, and many other things. MLOps helps to address several potential real-world challenges: the  necessary maintenance and updating of models and infrastructure, communication between the technical team that is building models and the business team focusing on outcomes, and evaluating risk of model errors.\n",
        "\n",
        "<br>\n",
        "\n",
        "\n",
        "\n",
        "2. There are 7 major phases of MLOps. The first phase revolves around defining the businesses goals or problem that must be solved. It is often desirable and appropriate to define performance metrics here that will facilitate evaluation of the project. Proper framing and  objective setting in this step is vital because it will influence all other steps in the process. The next major phase of MLOps is to begin searching for the inputs that will be used to feed your models. This involves exploring potentially relevant data sets to assess their feasibility. Additionally, data evaluation should take into account the data's regulatory compliance, accessibility, and credibility. At this step, you will also need to consider how many sources are going to be used and the feasibility of building pipelines to optimize the model once it is in production.\n",
        "\n",
        "    Now that the big picture is taken care of, the next phase entails diving into the weeds with data preparation and processing. Data prep is needed to handle the typical data wrangling tasks of: feature engineering, outlier removal, proper formatting, feature selection, and anything else necessary to put the data into model-ready form. After the data has been processed, the next phase is where the data science comes in. You need to design the best model possible that can fulfill the business objectives given the data that has been processed in step 3. The output of this step should be a model or models that have been fully validated and tested.\n",
        "\n",
        "   With the model built, the next few steps are designed to handle the many tasks involved in implementing  the model. Step 5 is building and automating ML pipelines. You will need training and testing pipelines, with the capability for auditing the pipeline runs and validating data that comes in. After the pipelines are built, you can move onto deployment which could involve a static deployment where a model is packaged into application software before distribution or dynamic deployment where the model will be accessed through a web based API. With the model deployed, the final phase requires model monitoring and optimization. Systems will need to be put into place to track the performance of the model and watch for system failures. As time passes, the model will need to be updated or altered so continual maintenance will be necessary."
      ]
    },
    {
      "cell_type": "markdown",
      "metadata": {
        "id": "wusA9L1LmUMH"
      },
      "source": [
        "# Question 2: Applications of Machine Learning (5 pts)\n",
        "Read this [article](https://builtin.com/data-science/data-science-applications-examples) \"17 Data Science Applications & Examples\" and pick one of the data science systems used by various organizations according to this blog. \n",
        "\n",
        "For this system you have chosen, answer the following questions. Please limit your answer to one paragraph:\n",
        "\n",
        "1. What kind of machine learning problem is involved (e.g. classification, regression, clustering, outlier detection,...) in this system?\n",
        "2. Speculate on what kind of data may be needed and how the results can be useful to the organization.\n",
        "3. What do you think are the ethical implications of using machine learning in a domain like this?\n",
        "\n",
        "## Answer:\n",
        "\n",
        "### Chose Article:\n",
        "#### Facebook: People you almost definitely know\n",
        "\n",
        "The type of machine learning problem Facebook is solving here is a regression problem. They are trying to predict what the chance is that you know another Facebook user. Facebook would likely use any information it can get its hands on to answer this question. Possible examples are: mutual friends, location, activities, interests, ideological views, schooling, work, clubs, sports, age, family, purchasing patterns, and just about anything else could be useful! I believe the ethical implications of the output are quite harmless because anyone can simply ignore the recommendation and the notification itself is unlikely to stir up any trouble. The potential for ethical issues to come into play here would primarily revolve around the vast amounts of information Facebook acquires around an individual in the process of making the recommendation. This implementation may be harmless, but its possible someone could cause harm with the information generated in this process.\n"
      ]
    },
    {
      "cell_type": "markdown",
      "metadata": {
        "id": "2w8za9lLmVO7"
      },
      "source": [
        "# Question 3: Simpson's Paradox (10 pts)\n",
        "A data scientist should be careful about drawing unwarranted conclusions about any data that is presented. One of the 'gotchas' that can happen even in apparently very simple tabular summaries, is called Simpson's paradox.\n",
        "\n",
        "Read this [article](https://www.covid-datascience.com/post/israeli-data-how-can-efficacy-vs-severe-disease-be-strong-when-60-of-hospitalized-are-vaccinated), which explains why the computed efficacy of the Pfizer vaccine is misleadingly low (67.5%) when you lump all people together, but once you stratify people by age (which is the right thing to do), you get much higher efficacy numbers.\n",
        "\n",
        "1.(**5 pts**) Explain in your own words what Simpson's paradox is, and how this 'paradox' can happen in real data.\n",
        "\n",
        "2.(**5 pts**) Find and mention another example of Simpson's paradox (but not any of the 3 examples given in the Wikipedia entry for 'Simpson's paradox'), state why the paradox appeared in your chosen example. Also give a reference (URL) to your source for the chosen example.\n",
        "\n",
        "## Answer:\n",
        "\n",
        "1. Simpson's paradox is a phenomenon that occurs when data reveals a certain trend that is reversed or nonexistent when the data is split into groups based on another variable. This can happen when variables of interest are systemically higher or lower in one group than the other. In addition to identifying \"lurking variables\" that group the observations, in many cases it is important to normalize the data to represent rates as opposed to raw counts. Simpson's paradox highlights the importance of being skeptical when observing results from a single data viewpoint. \n",
        " \n",
        "2. US Median Wage Decline\n",
        "From 2000-2013, the median US wage had risen about 1% (adjusted for inflation), however, the median wages for every educational subgroup had decreased.  The reason for the paradox is due to the changes in proportions of the educational subgroups over the 13 years. In 2013, there were many more college graduates than 2000, but their wages had fallen at a much slower rate (1.2%) than those of workers with less education (7.9%). The increase in the proportion of college graduates overpowered the decline in wages for specific groups.\n",
        " \n",
        "[https://blog.revolutionanalytics.com/2013/07/a-great-example-of-simpsons-paradox.html](https://blog.revolutionanalytics.com/2013/07/a-great-example-of-simpsons-paradox.html)\n"
      ]
    },
    {
      "cell_type": "markdown",
      "metadata": {
        "id": "gth0D8jiMBSe"
      },
      "source": [
        "# Question 4: Ridge and Lasso Regression (30 pts)\n",
        "\n",
        "Download the dataset **Admission.csv** from Canvas and use the following codes to import the Admission dataset in Python. \n",
        "\n",
        "There are 7 features in the dataset:\n",
        "\n",
        "1. GRE score\n",
        "2. TOEFL score\n",
        "3. University Rating\n",
        "4. SOP(Statement of Purpose)\n",
        "5. LOR(Letter of Recommendation)\n",
        "6. CGPA\n",
        "7. Research\n",
        "\n",
        "And the target is **Chance of Admission**."
      ]
    },
    {
      "cell_type": "code",
      "execution_count": 1,
      "metadata": {
        "id": "xsPaOOehGuU6"
      },
      "outputs": [],
      "source": [
        "# Codes below will work for both Google Colab and Jupyter Notebook.\n",
        "import numpy as np\n",
        "import pandas as pd\n",
        "import random\n",
        "import sklearn\n",
        "from sklearn import linear_model\n",
        "from sklearn.metrics import mean_absolute_error, mean_squared_error\n",
        "from sklearn.linear_model import LinearRegression\n",
        "%matplotlib inline\n",
        "\n",
        "## Load the dataset into pandas DataFrame\n",
        "df = pd.read_csv('Admission.csv', index_col=0)\n",
        "df = df.replace([np.inf, -np.inf], np.nan) # \n",
        "df = df.fillna(0) # Replace all the NaN values with 0"
      ]
    },
    {
      "cell_type": "code",
      "execution_count": 2,
      "metadata": {
        "id": "PmMz72U6Gv-z"
      },
      "outputs": [
        {
          "data": {
            "text/plain": [
              "Index(['GRE_Score', 'TOEFL_Score', 'University_Rating', 'SOP', 'LOR ', 'CGPA',\n",
              "       'Research', 'Chance_of_Admit'],\n",
              "      dtype='object')"
            ]
          },
          "execution_count": 2,
          "metadata": {},
          "output_type": "execute_result"
        }
      ],
      "source": [
        "df.columns # Show you all the columns in this file"
      ]
    },
    {
      "cell_type": "code",
      "execution_count": 3,
      "metadata": {
        "id": "CyZN-yFfGxlt"
      },
      "outputs": [
        {
          "data": {
            "text/html": [
              "<div>\n",
              "<style scoped>\n",
              "    .dataframe tbody tr th:only-of-type {\n",
              "        vertical-align: middle;\n",
              "    }\n",
              "\n",
              "    .dataframe tbody tr th {\n",
              "        vertical-align: top;\n",
              "    }\n",
              "\n",
              "    .dataframe thead th {\n",
              "        text-align: right;\n",
              "    }\n",
              "</style>\n",
              "<table border=\"1\" class=\"dataframe\">\n",
              "  <thead>\n",
              "    <tr style=\"text-align: right;\">\n",
              "      <th></th>\n",
              "      <th>GRE_Score</th>\n",
              "      <th>TOEFL_Score</th>\n",
              "      <th>University_Rating</th>\n",
              "      <th>SOP</th>\n",
              "      <th>LOR</th>\n",
              "      <th>CGPA</th>\n",
              "      <th>Research</th>\n",
              "      <th>Chance_of_Admit</th>\n",
              "    </tr>\n",
              "    <tr>\n",
              "      <th>Serial No.</th>\n",
              "      <th></th>\n",
              "      <th></th>\n",
              "      <th></th>\n",
              "      <th></th>\n",
              "      <th></th>\n",
              "      <th></th>\n",
              "      <th></th>\n",
              "      <th></th>\n",
              "    </tr>\n",
              "  </thead>\n",
              "  <tbody>\n",
              "    <tr>\n",
              "      <th>1</th>\n",
              "      <td>337</td>\n",
              "      <td>118</td>\n",
              "      <td>4</td>\n",
              "      <td>4.5</td>\n",
              "      <td>4.5</td>\n",
              "      <td>9.65</td>\n",
              "      <td>1</td>\n",
              "      <td>0.92</td>\n",
              "    </tr>\n",
              "    <tr>\n",
              "      <th>2</th>\n",
              "      <td>324</td>\n",
              "      <td>107</td>\n",
              "      <td>4</td>\n",
              "      <td>4.0</td>\n",
              "      <td>4.5</td>\n",
              "      <td>8.87</td>\n",
              "      <td>1</td>\n",
              "      <td>0.76</td>\n",
              "    </tr>\n",
              "    <tr>\n",
              "      <th>3</th>\n",
              "      <td>316</td>\n",
              "      <td>104</td>\n",
              "      <td>3</td>\n",
              "      <td>3.0</td>\n",
              "      <td>3.5</td>\n",
              "      <td>8.00</td>\n",
              "      <td>1</td>\n",
              "      <td>0.72</td>\n",
              "    </tr>\n",
              "    <tr>\n",
              "      <th>4</th>\n",
              "      <td>322</td>\n",
              "      <td>110</td>\n",
              "      <td>3</td>\n",
              "      <td>3.5</td>\n",
              "      <td>2.5</td>\n",
              "      <td>8.67</td>\n",
              "      <td>1</td>\n",
              "      <td>0.80</td>\n",
              "    </tr>\n",
              "    <tr>\n",
              "      <th>5</th>\n",
              "      <td>314</td>\n",
              "      <td>103</td>\n",
              "      <td>2</td>\n",
              "      <td>2.0</td>\n",
              "      <td>3.0</td>\n",
              "      <td>8.21</td>\n",
              "      <td>0</td>\n",
              "      <td>0.65</td>\n",
              "    </tr>\n",
              "  </tbody>\n",
              "</table>\n",
              "</div>"
            ],
            "text/plain": [
              "            GRE_Score  TOEFL_Score  University_Rating  SOP  LOR   CGPA  \\\n",
              "Serial No.                                                               \n",
              "1                 337          118                  4  4.5   4.5  9.65   \n",
              "2                 324          107                  4  4.0   4.5  8.87   \n",
              "3                 316          104                  3  3.0   3.5  8.00   \n",
              "4                 322          110                  3  3.5   2.5  8.67   \n",
              "5                 314          103                  2  2.0   3.0  8.21   \n",
              "\n",
              "            Research  Chance_of_Admit  \n",
              "Serial No.                             \n",
              "1                  1             0.92  \n",
              "2                  1             0.76  \n",
              "3                  1             0.72  \n",
              "4                  1             0.80  \n",
              "5                  0             0.65  "
            ]
          },
          "execution_count": 3,
          "metadata": {},
          "output_type": "execute_result"
        }
      ],
      "source": [
        "df.head() # Show you the first 5 rows in this file"
      ]
    },
    {
      "cell_type": "code",
      "execution_count": 4,
      "metadata": {
        "id": "S3TfR0i4G2rO"
      },
      "outputs": [],
      "source": [
        "y = df['Chance_of_Admit'] # The column named Chance_of_Admit is used as the target, and we store it in y\n",
        "X = df.drop(['Chance_of_Admit'], axis=1) # We keep the remaining columns as the features, and store them in x"
      ]
    },
    {
      "cell_type": "markdown",
      "metadata": {
        "id": "pKq1KERxJw9y"
      },
      "source": [
        "1)(**2 pts**) Split the data into a training set(75% of data) and a test set(25% of data), using the [train_test_split](https://scikit-learn.org/stable/modules/generated/sklearn.model_selection.train_test_split.html) function with random_state = 50. Then scale the data (not including target) so that each of the independent variables would have zero mean and unit variance. You can use the [sklearn.preprocessing.scale](https://scikit-learn.org/stable/modules/generated/sklearn.preprocessing.scale.html) function for this. Print the first 5 rows of the training set after scaling.\n",
        "\n",
        "2)(**5 pts**) Use [sklearn.linear_model.Lasso](https://scikit-learn.org/stable/modules/generated/sklearn.linear_model.Lasso.html) and [sklearn.linear_model.Ridge](https://scikit-learn.org/stable/modules/generated/sklearn.linear_model.Ridge.html) classes to do a **5-fold** cross validation using sklearn's KFold. For the sweep of the regularization parameter, we will look at a grid of values ranging from α=10^10 to α=10^−6. In Python, you can consider this range of values as follows: alpha = 10**numpy.linspace(6,-6,100) \n",
        "so that you can generate 100 uniform values between -6 to 6 as power series.\n",
        "\n",
        "Fit the 2 regression models with scaled data and report the best chosen **α** based on cross validation as well as the corresponding scoring metric. The cross validation should happen on your training data using **MSE** as the scoring metric.\n",
        "\n",
        "3)(**5 pts**) Run ridge and lasso regression for all of the **α** specified above (on training data), and plot the coefficients learned for each of them - there should be one plot each for lasso and ridge, so a total of two plots; different features' weights of each model should be on the same plot with different colors (3pts). \n",
        "\n",
        "What do you qualitatively observe when the value of the regularization parameter changes (2pts)? \n",
        "\n",
        "4)(**3 pts**) Take the exponential of Y_train as the target, and fit the 2 regression models again. Report the best chosen **α** based on cross validation as well as the corresponding scoring metric. Compare the results of using the original target with the results of using the exponential of the target. What do you observe? \n",
        "\n",
        "5)(**5 pts**) Similarly, use [sklearn.linear_model.ElasticNet](https://scikit-learn.org/stable/modules/generated/sklearn.linear_model.ElasticNet.html) to do linear regression with different **α** values, and plot the coefficients learned for each of them (2pts). Observe the plot, then explain the pros and cons of ridge, lasso and Elastic Net models (3pts).\n",
        "\n",
        "\n",
        "6)(**5 pts**) Run the following three regression models with **MSE** loss on the training data: \n",
        "\n",
        "a. linear regression without regularization (1pts)\n",
        "\n",
        "b. linear regression with ridge regularization (2pts)\n",
        "\n",
        "c. linear regression with lasso regularization (2pts)\n",
        "\n",
        "For part (b) and (c), use only the best regularization parameters. Report the MSE and R<sup>2</sup> on the test data for each model.\n",
        "\n",
        "7)(**5 pts**) Train the 3 models and report the metrics with the original data without scaling (3pts). \n",
        "\n",
        "Why do we need to scale the data before regularization (2pts)? \n",
        "\n",
        "## Answer:\n"
      ]
    },
    {
      "cell_type": "markdown",
      "metadata": {},
      "source": [
        "## 1)"
      ]
    },
    {
      "cell_type": "code",
      "execution_count": 5,
      "metadata": {},
      "outputs": [
        {
          "data": {
            "text/plain": [
              "array([[ 1.52725374,  2.0917706 ,  1.61594354,  0.63150829,  1.72829095,\n",
              "         2.11370277,  0.90453403],\n",
              "       [ 0.74180896,  0.46308859, -0.9310778 , -0.35266047, -1.04140609,\n",
              "         0.29488827,  0.90453403],\n",
              "       [ 0.56726568,  0.13735218,  1.61594354,  0.63150829,  0.62041214,\n",
              "         0.26211684,  0.90453403],\n",
              "       [-0.39272239, -0.51412062, -0.08207069,  0.13942391,  0.62041214,\n",
              "        -0.80295471, -1.1055416 ],\n",
              "       [ 0.47999403,  0.78882499,  0.76693642,  1.12359267,  1.17435154,\n",
              "         1.11417408,  0.90453403]])"
            ]
          },
          "execution_count": 5,
          "metadata": {},
          "output_type": "execute_result"
        }
      ],
      "source": [
        "from sklearn.model_selection import train_test_split\n",
        "\n",
        "y = y.to_numpy()\n",
        "X = X.to_numpy()\n",
        "\n",
        "X_train, X_test, Y_train, Y_test = train_test_split(X, y, test_size = 0.25, random_state=50)\n",
        "\n",
        "X_train_scaled = sklearn.preprocessing.scale(X_train)\n",
        "X_test_scaled = sklearn.preprocessing.scale(X_test)\n",
        "\n",
        "# Print first 5 rows of scaled data\n",
        "X_train_scaled[:5] \n"
      ]
    },
    {
      "cell_type": "markdown",
      "metadata": {},
      "source": [
        "## 2)"
      ]
    },
    {
      "cell_type": "code",
      "execution_count": 6,
      "metadata": {},
      "outputs": [
        {
          "name": "stdout",
          "output_type": "stream",
          "text": [
            "The best alpha for ridge regression was: 4.641588833612772 with an average RMSE across train-test groups of 0.0041180138842407095\n",
            "The best alpha for lasso regression was: 0.001072267222010321 with an average RMSE across train-test groups of 0.00409842531805538\n"
          ]
        }
      ],
      "source": [
        "alphas = 10**np.linspace(6,-6,100)\n",
        "\n",
        "from sklearn.model_selection import KFold\n",
        "n_splits = 5\n",
        "kf = KFold(n_splits=n_splits)\n",
        "\n",
        "alphas_mses_ridge_df = pd.DataFrame(index=alphas)\n",
        "alphas_mses_lasso_df = pd.DataFrame(index=alphas)\n",
        "\n",
        "k_group = 0\n",
        "for train_index, test_index in kf.split(X_train_scaled):\n",
        "    k_group += 1\n",
        "    x_train, x_test = X_train_scaled[train_index], X_train_scaled[test_index]\n",
        "    y_train, y_test = Y_train[train_index], Y_train[test_index]\n",
        "\n",
        "    ridge_mses = []\n",
        "    lasso_mses = []\n",
        "\n",
        "    for alpha in alphas:\n",
        "\n",
        "        # Fit and evaluate ridge\n",
        "        ridge_model = linear_model.Ridge(alpha=alpha)\n",
        "        ridge_model.fit(x_train, y_train)\n",
        "        ridge_mses.append(mean_squared_error(y_test, ridge_model.predict(x_test)))\n",
        "\n",
        "        # Fit and evaluate lasso\n",
        "        lasso_model = linear_model.Lasso(alpha=alpha)\n",
        "        lasso_model.fit(x_train, y_train)\n",
        "        lasso_mses.append(mean_squared_error(y_test, lasso_model.predict(x_test)))\n",
        "\n",
        "\n",
        "    alphas_mses_ridge_df[f'k_{k_group}'] = ridge_mses\n",
        "    alphas_mses_lasso_df[f'k_{k_group}'] = lasso_mses\n",
        "\n",
        "\n",
        "average_mses_ridge = alphas_mses_ridge_df.mean(axis=1)\n",
        "best_alpha_ridge_original = average_mses_ridge.idxmin()\n",
        "\n",
        "average_mses_lasso = alphas_mses_lasso_df.mean(axis=1)\n",
        "best_alpha_lasso_original = average_mses_lasso.idxmin()\n",
        "\n",
        "\n",
        "print(f'The best alpha for ridge regression was: {best_alpha_ridge_original} with an average RMSE across train-test groups of {average_mses_ridge.min()}')\n",
        "print(f'The best alpha for lasso regression was: {best_alpha_lasso_original} with an average RMSE across train-test groups of {average_mses_lasso.min()}')\n"
      ]
    },
    {
      "cell_type": "markdown",
      "metadata": {},
      "source": [
        "## 3)"
      ]
    },
    {
      "cell_type": "code",
      "execution_count": 32,
      "metadata": {},
      "outputs": [
        {
          "data": {
            "text/plain": [
              "Text(0, 0.5, 'Coefficient Value')"
            ]
          },
          "execution_count": 32,
          "metadata": {},
          "output_type": "execute_result"
        },
        {
          "data": {
            "image/png": "[encoded data removed]",
            "text/plain": [
              "<Figure size 432x288 with 1 Axes>"
            ]
          },
          "metadata": {
            "needs_background": "light"
          },
          "output_type": "display_data"
        },
        {
          "data": {
            "image/png": "[encoded data removed]",
            "text/plain": [
              "<Figure size 432x288 with 1 Axes>"
            ]
          },
          "metadata": {
            "needs_background": "light"
          },
          "output_type": "display_data"
        }
      ],
      "source": [
        "from matplotlib import pyplot as plt\n",
        "\n",
        "ridge_coefs = []\n",
        "lasso_coefs = []\n",
        "for alpha in alphas:\n",
        "    \n",
        "    # get ridge coefs\n",
        "    ridge_model = linear_model.Ridge(alpha=alpha)\n",
        "    ridge_model.fit(X_train_scaled, Y_train)\n",
        "    ridge_coefs.append(ridge_model.coef_)\n",
        "\n",
        "    # lasso coefs\n",
        "    lasso_model = linear_model.Ridge(alpha=alpha)\n",
        "    lasso_model.fit(X_train_scaled, Y_train)\n",
        "    lasso_coefs.append(lasso_model.coef_)\n",
        "\n",
        "\n",
        "ridge_coefs_df = pd.DataFrame(data=ridge_coefs,index=alphas, columns=['GRE_Score','TOEFL_Score','University_Rating','SOP','LOR ','CGPA','Research'])\n",
        "ridge_coefs_df.plot()\n",
        "plt.title('Ridge Coefficient Weights by Alpha')\n",
        "plt.xlabel('Alpha')\n",
        "plt.ylabel('Coefficient Value')\n",
        "\n",
        "lasso_coefs_df = pd.DataFrame(data=lasso_coefs,index=alphas, columns=['GRE_Score','TOEFL_Score','University_Rating','SOP','LOR ','CGPA','Research'])\n",
        "lasso_coefs_df.plot()\n",
        "plt.title('Lasso Coefficient Weights by Alpha')\n",
        "plt.xlabel('Alpha')\n",
        "plt.ylabel('Coefficient Value')"
      ]
    },
    {
      "cell_type": "markdown",
      "metadata": {},
      "source": [
        "The most obvious thing that jumps out from these graphs are how the coefficients drop sharply as the regularization parameter increases."
      ]
    },
    {
      "cell_type": "markdown",
      "metadata": {},
      "source": [
        "## 4)"
      ]
    },
    {
      "cell_type": "code",
      "execution_count": 11,
      "metadata": {},
      "outputs": [
        {
          "name": "stdout",
          "output_type": "stream",
          "text": [
            "The best alpha for ridge regression was: 6.135907273413176 with an average RMSE across train-test groups of 0.014815008775351052\n",
            "The best alpha for lasso regression was: 0.0018738174228603867 with an average RMSE across train-test groups of 0.01476731964422993\n"
          ]
        }
      ],
      "source": [
        "Y_train_exponential = np.exp(Y_train)\n",
        "\n",
        "from sklearn.model_selection import KFold\n",
        "\n",
        "n_splits = 5\n",
        "kf = KFold(n_splits=n_splits)\n",
        "\n",
        "\n",
        "alphas_mses_ridge_df = pd.DataFrame(index=alphas)\n",
        "alphas_mses_lasso_df = pd.DataFrame(index=alphas)\n",
        "\n",
        "k_group = 0\n",
        "for train_index, test_index in kf.split(X_train_scaled):\n",
        "    k_group += 1\n",
        "    x_train, x_test = X_train_scaled[train_index], X_train_scaled[test_index]\n",
        "    y_train, y_test = Y_train_exponential[train_index], Y_train_exponential[test_index]\n",
        "\n",
        "    ridge_mses = []\n",
        "    lasso_mses = []\n",
        "\n",
        "    for alpha in alphas:\n",
        "\n",
        "        # Fit and evalutate ridge\n",
        "        ridge_model = linear_model.Ridge(alpha=alpha)\n",
        "        ridge_model.fit(x_train, y_train)\n",
        "        ridge_mses.append(mean_squared_error(y_test, ridge_model.predict(x_test)))\n",
        "\n",
        "        # Fit and evalutate lasso\n",
        "        lasso_model = linear_model.Lasso(alpha=alpha)\n",
        "        lasso_model.fit(x_train, y_train)\n",
        "        lasso_mses.append(mean_squared_error(y_test, lasso_model.predict(x_test)))\n",
        "\n",
        "    alphas_mses_ridge_df[f'k_{k_group}'] = ridge_mses\n",
        "    alphas_mses_lasso_df[f'k_{k_group}'] = lasso_mses\n",
        "\n",
        "average_mses_ridge = alphas_mses_ridge_df.mean(axis=1)\n",
        "best_alpha_ridge = average_mses_ridge.idxmin()\n",
        "\n",
        "average_mses_lasso = alphas_mses_lasso_df.mean(axis=1)\n",
        "best_alpha_lasso = average_mses_lasso.idxmin()\n",
        "\n",
        "print(f'The best alpha for ridge regression was: {best_alpha_ridge} with an average RMSE across train-test groups of {average_mses_ridge.min()}')\n",
        "print(f'The best alpha for lasso regression was: {best_alpha_lasso} with an average RMSE across train-test groups of {average_mses_lasso.min()}')"
      ]
    },
    {
      "cell_type": "markdown",
      "metadata": {},
      "source": [
        "The alphas do not appear to be substantially different from the alphas found in the model where the data does not scale. In contrast, the RMSEs appear to be quite a bit worse than the previous case. Off by factor of 10 at least."
      ]
    },
    {
      "cell_type": "markdown",
      "metadata": {},
      "source": [
        "## 5)"
      ]
    },
    {
      "cell_type": "code",
      "execution_count": 33,
      "metadata": {},
      "outputs": [
        {
          "data": {
            "text/plain": [
              "Text(0, 0.5, 'Coefficient Value')"
            ]
          },
          "execution_count": 33,
          "metadata": {},
          "output_type": "execute_result"
        },
        {
          "data": {
            "image/png": "[encoded data removed]",
            "text/plain": [
              "<Figure size 432x288 with 1 Axes>"
            ]
          },
          "metadata": {
            "needs_background": "light"
          },
          "output_type": "display_data"
        }
      ],
      "source": [
        "\n",
        "elastic_coefs = []\n",
        "for alpha in alphas:\n",
        "    \n",
        "    # get elastic coefs\n",
        "    elastic_model = linear_model.ElasticNet(alpha=alpha)\n",
        "    elastic_model.fit(X_train_scaled, Y_train)\n",
        "    elastic_coefs.append(elastic_model.coef_)\n",
        "\n",
        "\n",
        "elastic_coefs_df = pd.DataFrame(data=elastic_coefs,index=alphas, columns=['GRE_Score','TOEFL_Score','University_Rating','SOP','LOR ','CGPA','Research'])\n",
        "elastic_coefs_df.plot()\n",
        "plt.title('Elastic Net Coefficient Weights by Alpha')\n",
        "plt.xlabel('Alpha')\n",
        "plt.ylabel('Coefficient Value')"
      ]
    },
    {
      "cell_type": "markdown",
      "metadata": {},
      "source": [
        "The plot looks quite similar to the previous plots with ridge and lasso. Only difference being the changes seem sharper for elastic net method\n",
        "\n",
        "The primary benefit of ridge, lasso, and elastic net are that each technique helps to reduce the variance of the model by reducing overfitting and can also help to reduce the model complexity. Ridge regression will reduce the absolute magnitude of the regression coefficients, but the main drawback is that it will not eliminate any coefficients, simply reduce their impact. In contrast, the penalty term utlized in lasso regression will perform feature selection by eliminating certain variables entirely. There are a few cons associated with using lasso regularization such as lasso's difficulty in data sets with a large number of features relative to samples. Also, in data sets with highly correlated features, lasso will simply select one and ignore the others. The elastic net overcomes these limitations. It is essentially a synthesis of both the ridge and lasso methods."
      ]
    },
    {
      "cell_type": "markdown",
      "metadata": {},
      "source": [
        "# 6)"
      ]
    },
    {
      "cell_type": "code",
      "execution_count": 18,
      "metadata": {},
      "outputs": [
        {
          "name": "stdout",
          "output_type": "stream",
          "text": [
            "The RMSE for linear regression without regularizon is: 0.0038570690453814302 and its R^2 is: 0.8193370700006861\n",
            "The RMSE for lasso, linear regression is: 0.0038588899424586015 and its R^2 is: 0.8192517802126843\n",
            "The RMSE for ridge regression is: 0.0038611057409614316 and its R^2 is: 0.8191479934655197\n"
          ]
        }
      ],
      "source": [
        "from sklearn.metrics import r2_score\n",
        "\n",
        "lin_model = LinearRegression()\n",
        "lin_model.fit(X_train_scaled, Y_train)\n",
        "\n",
        "lasso_model = linear_model.Lasso(alpha=best_alpha_lasso_original)\n",
        "lasso_model.fit(X_train_scaled, Y_train)\n",
        "\n",
        "ridge_model = linear_model.Ridge(alpha=best_alpha_ridge_original)\n",
        "ridge_model.fit(X_train_scaled, Y_train)\n",
        "\n",
        "lin_mse = mean_squared_error(Y_train, lin_model.predict(X_train_scaled))\n",
        "lasso_mse = mean_squared_error(Y_train, lasso_model.predict(X_train_scaled))\n",
        "ridge_mse = mean_squared_error(Y_train, ridge_model.predict(X_train_scaled))\n",
        "\n",
        "lin_r2 = r2_score(Y_train, lin_model.predict(X_train_scaled))\n",
        "lasso_r2 = r2_score(Y_train, lasso_model.predict(X_train_scaled))\n",
        "ridge_r2 = r2_score(Y_train, ridge_model.predict(X_train_scaled))\n",
        "\n",
        "\n",
        "\n",
        "print(f'The RMSE for linear regression without regularizon is: {lin_mse} and its R^2 is: {lin_r2}')\n",
        "print(f'The RMSE for lasso linear regression is: {lasso_mse} and its R^2 is: {lasso_r2}')\n",
        "print(f'The RMSE for ridge regression is: {ridge_mse} and its R^2 is: {ridge_r2}')"
      ]
    },
    {
      "cell_type": "markdown",
      "metadata": {},
      "source": [
        "# 7)"
      ]
    },
    {
      "cell_type": "code",
      "execution_count": 19,
      "metadata": {},
      "outputs": [
        {
          "name": "stdout",
          "output_type": "stream",
          "text": [
            "The following output is for non-scaled data\n",
            "The RMSE for linear regression without regularizon is: 0.0038570690453814302 and its R^2 is: 0.8193370700006861\n",
            "The RMSE for lasso linear regression is: 0.0038732792224167277 and its R^2 is: 0.8185777944874537\n",
            "The RMSE for ridge regression is: 0.0038907827945037178 and its R^2 is: 0.8177579370823922\n"
          ]
        }
      ],
      "source": [
        "from sklearn.metrics import r2_score\n",
        "\n",
        "lin_model = LinearRegression()\n",
        "lin_model.fit(X_train, Y_train)\n",
        "\n",
        "lasso_model = linear_model.Lasso(alpha=best_alpha_lasso_original)\n",
        "lasso_model.fit(X_train, Y_train)\n",
        "\n",
        "ridge_model = linear_model.Ridge(alpha=best_alpha_ridge_original)\n",
        "ridge_model.fit(X_train, Y_train)\n",
        "\n",
        "lin_mse = mean_squared_error(Y_train, lin_model.predict(X_train))\n",
        "lasso_mse = mean_squared_error(Y_train, lasso_model.predict(X_train))\n",
        "ridge_mse = mean_squared_error(Y_train, ridge_model.predict(X_train))\n",
        "\n",
        "lin_r2 = r2_score(Y_train, lin_model.predict(X_train))\n",
        "lasso_r2 = r2_score(Y_train, lasso_model.predict(X_train))\n",
        "ridge_r2 = r2_score(Y_train, ridge_model.predict(X_train))\n",
        "\n",
        "\n",
        "print('The following output is for non-scaled data')\n",
        "print(f'The RMSE for linear regression without regularizon is: {lin_mse} and its R^2 is: {lin_r2}')\n",
        "print(f'The RMSE for lasso linear regression is: {lasso_mse} and its R^2 is: {lasso_r2}')\n",
        "print(f'The RMSE for ridge regression is: {ridge_mse} and its R^2 is: {ridge_r2}')"
      ]
    },
    {
      "cell_type": "markdown",
      "metadata": {},
      "source": [
        "Scaling the data is necessary because the regularization constraints penalize coefficients based on their size, but the size of the coefficients is in-part dependent on the magnitude of the data in a feature. If the data is not scaled, then the data with the largest magnitude will almost certainly be trimmed considerably simply because of its magnitude."
      ]
    }
  ],
  "metadata": {
    "colab": {
      "collapsed_sections": [],
      "name": "MIS 382N - HW1.ipynb",
      "provenance": []
    },
    "interpreter": {
      "hash": "2647ea34e536f865ab67ff9ddee7fd78773d956cec0cab53c79b32cd10da5d83"
    },
    "kernelspec": {
      "display_name": "Python 3.9.5 64-bit",
      "name": "python3"
    },
    "language_info": {
      "codemirror_mode": {
        "name": "ipython",
        "version": 3
      },
      "file_extension": ".py",
      "mimetype": "text/x-python",
      "name": "python",
      "nbconvert_exporter": "python",
      "pygments_lexer": "ipython3",
      "version": "3.9.5"
    }
  },
  "nbformat": 4,
  "nbformat_minor": 2
}
